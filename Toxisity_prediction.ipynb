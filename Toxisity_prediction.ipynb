{
  "nbformat": 4,
  "nbformat_minor": 0,
  "metadata": {
    "colab": {
      "provenance": [],
      "collapsed_sections": [
        "XvIUWDDOby3_",
        "qP6g6MOaKIsW",
        "zNMjESIVjyiV"
      ]
    },
    "kernelspec": {
      "name": "python3",
      "display_name": "Python 3"
    },
    "language_info": {
      "name": "python"
    }
  },
  "cells": [
    {
      "cell_type": "markdown",
      "source": [
        "#Acute toxicity mouse intraperitoneal_LD50"
      ],
      "metadata": {
        "id": "to2e3HTqbeb5"
      }
    },
    {
      "cell_type": "markdown",
      "source": [
        "Загружаем необходимую библиотеку"
      ],
      "metadata": {
        "id": "zYpCU3rlEVvm"
      }
    },
    {
      "cell_type": "code",
      "execution_count": 5,
      "metadata": {
        "id": "ELCgMGbiRZOf"
      },
      "outputs": [],
      "source": [
        "import pandas as pd"
      ]
    },
    {
      "cell_type": "markdown",
      "source": [
        "Данные хранятся на диске. Ссылка для доступа https://drive.google.com/file/d/18WwPBK-TOpeYAUpUG3Ov4lfbo0nnhK1o/view?usp=share_link"
      ],
      "metadata": {
        "id": "REoLhCO9EcEw"
      }
    },
    {
      "cell_type": "markdown",
      "source": [
        "Загружаем датасет с данными по LD50 для мышей"
      ],
      "metadata": {
        "id": "2Tud0wYa_-cv"
      }
    },
    {
      "cell_type": "code",
      "source": [
        "! gdown --id 18WwPBK-TOpeYAUpUG3Ov4lfbo0nnhK1o"
      ],
      "metadata": {
        "colab": {
          "base_uri": "https://localhost:8080/"
        },
        "id": "q-5P7pC5MaH1",
        "outputId": "e721ea9e-7356-4170-f2db-614b0f9a6a49"
      },
      "execution_count": null,
      "outputs": [
        {
          "output_type": "stream",
          "name": "stdout",
          "text": [
            "/usr/local/lib/python3.10/dist-packages/gdown/cli.py:121: FutureWarning: Option `--id` was deprecated in version 4.3.1 and will be removed in 5.0. You don't need to pass it anymore to use a file ID.\n",
            "  warnings.warn(\n",
            "Downloading...\n",
            "From: https://drive.google.com/uc?id=18WwPBK-TOpeYAUpUG3Ov4lfbo0nnhK1o\n",
            "To: /content/Acute Toxicity_mouse_intraperitoneal_LD50.csv\n",
            "100% 6.86M/6.86M [00:00<00:00, 124MB/s]\n"
          ]
        }
      ]
    },
    {
      "cell_type": "markdown",
      "source": [
        "Откроем файл с данными и посмотрим, что в нем находится"
      ],
      "metadata": {
        "id": "A09Evlz6AJXq"
      }
    },
    {
      "cell_type": "code",
      "source": [
        "data = pd.read_csv(\"/content/Acute Toxicity_mouse_intraperitoneal_LD50.csv\")\n",
        "data.head()"
      ],
      "metadata": {
        "colab": {
          "base_uri": "https://localhost:8080/",
          "height": 409
        },
        "id": "VW5Q6RVURiQN",
        "outputId": "8dec8872-4b18-45b0-dbff-091146a287d4"
      },
      "execution_count": null,
      "outputs": [
        {
          "output_type": "execute_result",
          "data": {
            "text/plain": [
              "       TAID  Pubchem CID                                         IUPAC Name  \\\n",
              "0   TOX-145          785                                   benzene-1,4-diol   \n",
              "1   TOX-245         5453  tris(aziridin-1-yl)-sulfanylidene-lambda5-phos...   \n",
              "2  TOX-1273          727                  1,2,3,4,5,6-hexachlorocyclohexane   \n",
              "3  TOX-1279         4091       3-(diaminomethylidene)-1,1-dimethylguanidine   \n",
              "4  TOX-1282        10364                       2-methyl-5-propan-2-ylphenol   \n",
              "\n",
              "                         SMILES              Canonical SMILES  \\\n",
              "0                  Oc1ccc(O)cc1                  Oc1ccc(O)cc1   \n",
              "1        S=P(N1CC1)(N1CC1)N1CC1        S=P(N1CC1)(N1CC1)N1CC1   \n",
              "2  ClC1C(Cl)C(Cl)C(Cl)C(Cl)C1Cl  ClC1C(Cl)C(Cl)C(Cl)C(Cl)C1Cl   \n",
              "3             CN(C)C(=N)N=C(N)N             CN(C)C(=N)N=C(N)N   \n",
              "4             Cc1ccc(C(C)C)cc1O             Cc1ccc(C(C)C)cc1O   \n",
              "\n",
              "                      InChIKey  mouse_intraperitoneal_LD50  \n",
              "0  QIGBRXMKCJKVMJ-UHFFFAOYSA-N                    3.041835  \n",
              "1  FOCVUCIESVLUNU-UHFFFAOYSA-N                    4.235584  \n",
              "2  JLYXXMFPNIAWKQ-UHFFFAOYSA-N                    3.366732  \n",
              "3  XZWYZXLIPXDOLR-UHFFFAOYSA-N                    2.641604  \n",
              "4  RECUKUPTGUEGMW-UHFFFAOYSA-N                    3.311627  "
            ],
            "text/html": [
              "\n",
              "  <div id=\"df-8902ce8e-dd33-462d-81a9-7eefa3b8dd52\">\n",
              "    <div class=\"colab-df-container\">\n",
              "      <div>\n",
              "<style scoped>\n",
              "    .dataframe tbody tr th:only-of-type {\n",
              "        vertical-align: middle;\n",
              "    }\n",
              "\n",
              "    .dataframe tbody tr th {\n",
              "        vertical-align: top;\n",
              "    }\n",
              "\n",
              "    .dataframe thead th {\n",
              "        text-align: right;\n",
              "    }\n",
              "</style>\n",
              "<table border=\"1\" class=\"dataframe\">\n",
              "  <thead>\n",
              "    <tr style=\"text-align: right;\">\n",
              "      <th></th>\n",
              "      <th>TAID</th>\n",
              "      <th>Pubchem CID</th>\n",
              "      <th>IUPAC Name</th>\n",
              "      <th>SMILES</th>\n",
              "      <th>Canonical SMILES</th>\n",
              "      <th>InChIKey</th>\n",
              "      <th>mouse_intraperitoneal_LD50</th>\n",
              "    </tr>\n",
              "  </thead>\n",
              "  <tbody>\n",
              "    <tr>\n",
              "      <th>0</th>\n",
              "      <td>TOX-145</td>\n",
              "      <td>785</td>\n",
              "      <td>benzene-1,4-diol</td>\n",
              "      <td>Oc1ccc(O)cc1</td>\n",
              "      <td>Oc1ccc(O)cc1</td>\n",
              "      <td>QIGBRXMKCJKVMJ-UHFFFAOYSA-N</td>\n",
              "      <td>3.041835</td>\n",
              "    </tr>\n",
              "    <tr>\n",
              "      <th>1</th>\n",
              "      <td>TOX-245</td>\n",
              "      <td>5453</td>\n",
              "      <td>tris(aziridin-1-yl)-sulfanylidene-lambda5-phos...</td>\n",
              "      <td>S=P(N1CC1)(N1CC1)N1CC1</td>\n",
              "      <td>S=P(N1CC1)(N1CC1)N1CC1</td>\n",
              "      <td>FOCVUCIESVLUNU-UHFFFAOYSA-N</td>\n",
              "      <td>4.235584</td>\n",
              "    </tr>\n",
              "    <tr>\n",
              "      <th>2</th>\n",
              "      <td>TOX-1273</td>\n",
              "      <td>727</td>\n",
              "      <td>1,2,3,4,5,6-hexachlorocyclohexane</td>\n",
              "      <td>ClC1C(Cl)C(Cl)C(Cl)C(Cl)C1Cl</td>\n",
              "      <td>ClC1C(Cl)C(Cl)C(Cl)C(Cl)C1Cl</td>\n",
              "      <td>JLYXXMFPNIAWKQ-UHFFFAOYSA-N</td>\n",
              "      <td>3.366732</td>\n",
              "    </tr>\n",
              "    <tr>\n",
              "      <th>3</th>\n",
              "      <td>TOX-1279</td>\n",
              "      <td>4091</td>\n",
              "      <td>3-(diaminomethylidene)-1,1-dimethylguanidine</td>\n",
              "      <td>CN(C)C(=N)N=C(N)N</td>\n",
              "      <td>CN(C)C(=N)N=C(N)N</td>\n",
              "      <td>XZWYZXLIPXDOLR-UHFFFAOYSA-N</td>\n",
              "      <td>2.641604</td>\n",
              "    </tr>\n",
              "    <tr>\n",
              "      <th>4</th>\n",
              "      <td>TOX-1282</td>\n",
              "      <td>10364</td>\n",
              "      <td>2-methyl-5-propan-2-ylphenol</td>\n",
              "      <td>Cc1ccc(C(C)C)cc1O</td>\n",
              "      <td>Cc1ccc(C(C)C)cc1O</td>\n",
              "      <td>RECUKUPTGUEGMW-UHFFFAOYSA-N</td>\n",
              "      <td>3.311627</td>\n",
              "    </tr>\n",
              "  </tbody>\n",
              "</table>\n",
              "</div>\n",
              "      <button class=\"colab-df-convert\" onclick=\"convertToInteractive('df-8902ce8e-dd33-462d-81a9-7eefa3b8dd52')\"\n",
              "              title=\"Convert this dataframe to an interactive table.\"\n",
              "              style=\"display:none;\">\n",
              "        \n",
              "  <svg xmlns=\"http://www.w3.org/2000/svg\" height=\"24px\"viewBox=\"0 0 24 24\"\n",
              "       width=\"24px\">\n",
              "    <path d=\"M0 0h24v24H0V0z\" fill=\"none\"/>\n",
              "    <path d=\"M18.56 5.44l.94 2.06.94-2.06 2.06-.94-2.06-.94-.94-2.06-.94 2.06-2.06.94zm-11 1L8.5 8.5l.94-2.06 2.06-.94-2.06-.94L8.5 2.5l-.94 2.06-2.06.94zm10 10l.94 2.06.94-2.06 2.06-.94-2.06-.94-.94-2.06-.94 2.06-2.06.94z\"/><path d=\"M17.41 7.96l-1.37-1.37c-.4-.4-.92-.59-1.43-.59-.52 0-1.04.2-1.43.59L10.3 9.45l-7.72 7.72c-.78.78-.78 2.05 0 2.83L4 21.41c.39.39.9.59 1.41.59.51 0 1.02-.2 1.41-.59l7.78-7.78 2.81-2.81c.8-.78.8-2.07 0-2.86zM5.41 20L4 18.59l7.72-7.72 1.47 1.35L5.41 20z\"/>\n",
              "  </svg>\n",
              "      </button>\n",
              "      \n",
              "  <style>\n",
              "    .colab-df-container {\n",
              "      display:flex;\n",
              "      flex-wrap:wrap;\n",
              "      gap: 12px;\n",
              "    }\n",
              "\n",
              "    .colab-df-convert {\n",
              "      background-color: #E8F0FE;\n",
              "      border: none;\n",
              "      border-radius: 50%;\n",
              "      cursor: pointer;\n",
              "      display: none;\n",
              "      fill: #1967D2;\n",
              "      height: 32px;\n",
              "      padding: 0 0 0 0;\n",
              "      width: 32px;\n",
              "    }\n",
              "\n",
              "    .colab-df-convert:hover {\n",
              "      background-color: #E2EBFA;\n",
              "      box-shadow: 0px 1px 2px rgba(60, 64, 67, 0.3), 0px 1px 3px 1px rgba(60, 64, 67, 0.15);\n",
              "      fill: #174EA6;\n",
              "    }\n",
              "\n",
              "    [theme=dark] .colab-df-convert {\n",
              "      background-color: #3B4455;\n",
              "      fill: #D2E3FC;\n",
              "    }\n",
              "\n",
              "    [theme=dark] .colab-df-convert:hover {\n",
              "      background-color: #434B5C;\n",
              "      box-shadow: 0px 1px 3px 1px rgba(0, 0, 0, 0.15);\n",
              "      filter: drop-shadow(0px 1px 2px rgba(0, 0, 0, 0.3));\n",
              "      fill: #FFFFFF;\n",
              "    }\n",
              "  </style>\n",
              "\n",
              "      <script>\n",
              "        const buttonEl =\n",
              "          document.querySelector('#df-8902ce8e-dd33-462d-81a9-7eefa3b8dd52 button.colab-df-convert');\n",
              "        buttonEl.style.display =\n",
              "          google.colab.kernel.accessAllowed ? 'block' : 'none';\n",
              "\n",
              "        async function convertToInteractive(key) {\n",
              "          const element = document.querySelector('#df-8902ce8e-dd33-462d-81a9-7eefa3b8dd52');\n",
              "          const dataTable =\n",
              "            await google.colab.kernel.invokeFunction('convertToInteractive',\n",
              "                                                     [key], {});\n",
              "          if (!dataTable) return;\n",
              "\n",
              "          const docLinkHtml = 'Like what you see? Visit the ' +\n",
              "            '<a target=\"_blank\" href=https://colab.research.google.com/notebooks/data_table.ipynb>data table notebook</a>'\n",
              "            + ' to learn more about interactive tables.';\n",
              "          element.innerHTML = '';\n",
              "          dataTable['output_type'] = 'display_data';\n",
              "          await google.colab.output.renderOutput(dataTable, element);\n",
              "          const docLink = document.createElement('div');\n",
              "          docLink.innerHTML = docLinkHtml;\n",
              "          element.appendChild(docLink);\n",
              "        }\n",
              "      </script>\n",
              "    </div>\n",
              "  </div>\n",
              "  "
            ]
          },
          "metadata": {},
          "execution_count": 37
        }
      ]
    },
    {
      "cell_type": "markdown",
      "source": [
        "Установим rdkit"
      ],
      "metadata": {
        "id": "vNIbEu1jAdJF"
      }
    },
    {
      "cell_type": "code",
      "source": [
        "!pip install rdkit"
      ],
      "metadata": {
        "colab": {
          "base_uri": "https://localhost:8080/"
        },
        "id": "rHv0WSgpM8LT",
        "outputId": "68af2df3-d272-409f-d81a-60adeb236a46"
      },
      "execution_count": 2,
      "outputs": [
        {
          "output_type": "stream",
          "name": "stdout",
          "text": [
            "Looking in indexes: https://pypi.org/simple, https://us-python.pkg.dev/colab-wheels/public/simple/\n",
            "Collecting rdkit\n",
            "  Downloading rdkit-2023.3.1-cp310-cp310-manylinux_2_17_x86_64.manylinux2014_x86_64.whl (29.7 MB)\n",
            "\u001b[2K     \u001b[90m━━━━━━━━━━━━━━━━━━━━━━━━━━━━━━━━━━━━━━━━\u001b[0m \u001b[32m29.7/29.7 MB\u001b[0m \u001b[31m10.2 MB/s\u001b[0m eta \u001b[36m0:00:00\u001b[0m\n",
            "\u001b[?25hRequirement already satisfied: numpy in /usr/local/lib/python3.10/dist-packages (from rdkit) (1.22.4)\n",
            "Requirement already satisfied: Pillow in /usr/local/lib/python3.10/dist-packages (from rdkit) (8.4.0)\n",
            "Installing collected packages: rdkit\n",
            "Successfully installed rdkit-2023.3.1\n"
          ]
        }
      ]
    },
    {
      "cell_type": "markdown",
      "source": [
        "Загрузим необходимые библиотеки"
      ],
      "metadata": {
        "id": "Hy78ACxgAjim"
      }
    },
    {
      "cell_type": "code",
      "source": [
        "from rdkit import Chem\n",
        "from rdkit.Chem import AllChem\n",
        "import numpy as np"
      ],
      "metadata": {
        "id": "QKZI16poNZUr"
      },
      "execution_count": 3,
      "outputs": []
    },
    {
      "cell_type": "markdown",
      "source": [
        "Из базы данных нас в первую очередь интересует колонка 'SMILES'. С помощью метода Chem.MolFromSmiles переведем смайлзы в объекты rdkit"
      ],
      "metadata": {
        "id": "02vVK3cyBP-G"
      }
    },
    {
      "cell_type": "code",
      "source": [
        "mol_dataset = data['SMILES'].apply(lambda x: Chem.MolFromSmiles(x))\n",
        "mol_dataset.head()"
      ],
      "metadata": {
        "colab": {
          "base_uri": "https://localhost:8080/"
        },
        "id": "oJOFO8ziN2NY",
        "outputId": "a57f6ef9-fe45-443c-a61d-07097d9fe55e"
      },
      "execution_count": null,
      "outputs": [
        {
          "output_type": "execute_result",
          "data": {
            "text/plain": [
              "0    <rdkit.Chem.rdchem.Mol object at 0x7fed4d8593f0>\n",
              "1    <rdkit.Chem.rdchem.Mol object at 0x7fed4d8591c0>\n",
              "2    <rdkit.Chem.rdchem.Mol object at 0x7fed4d859230>\n",
              "3    <rdkit.Chem.rdchem.Mol object at 0x7fed4d858f90>\n",
              "4    <rdkit.Chem.rdchem.Mol object at 0x7fed4d859380>\n",
              "Name: SMILES, dtype: object"
            ]
          },
          "metadata": {},
          "execution_count": 40
        }
      ]
    },
    {
      "cell_type": "markdown",
      "source": [
        "Переведем молекулы в векторную форму. В SMILES содержится описание структуры молекулы. Фингерпринт — вектор чисел, описывающий структурный состав молекулы. Моргановский фингерпринт — это универсальный способ представления молекул в виде бинарного вектора, где после конкатенации векторов из свойств атомов применяется хэш-функция. Переведем смайлзы в моргановский фингерпринт."
      ],
      "metadata": {
        "id": "yKn828NaBtW6"
      }
    },
    {
      "cell_type": "code",
      "source": [
        "X = mol_dataset.apply(lambda x: np.array(list(AllChem.GetMorganFingerprintAsBitVect(x, radius=2, nBits=2048).ToBitString()), dtype=int))\n",
        "X"
      ],
      "metadata": {
        "colab": {
          "base_uri": "https://localhost:8080/"
        },
        "id": "DeYn8nmXQ0-P",
        "outputId": "18d9e2f6-24c6-446e-ea5f-cd68a47b07e8"
      },
      "execution_count": null,
      "outputs": [
        {
          "output_type": "execute_result",
          "data": {
            "text/plain": [
              "0        [0, 0, 0, 0, 0, 0, 0, 0, 0, 0, 0, 0, 0, 0, 0, ...\n",
              "1        [0, 0, 0, 0, 0, 0, 0, 0, 0, 0, 0, 0, 0, 0, 0, ...\n",
              "2        [0, 0, 0, 0, 0, 0, 0, 0, 0, 0, 0, 0, 0, 0, 0, ...\n",
              "3        [0, 0, 0, 0, 0, 0, 0, 0, 0, 0, 0, 0, 0, 0, 0, ...\n",
              "4        [0, 1, 0, 0, 0, 0, 0, 0, 0, 0, 0, 0, 0, 0, 0, ...\n",
              "                               ...                        \n",
              "35294    [0, 0, 1, 0, 0, 0, 0, 0, 0, 0, 0, 0, 0, 0, 0, ...\n",
              "35295    [0, 0, 1, 0, 0, 0, 0, 0, 0, 0, 0, 0, 0, 0, 0, ...\n",
              "35296    [0, 0, 1, 0, 0, 0, 0, 0, 0, 0, 0, 0, 0, 0, 0, ...\n",
              "35297    [0, 0, 0, 0, 0, 1, 0, 0, 0, 0, 0, 0, 0, 0, 0, ...\n",
              "35298    [0, 1, 0, 0, 0, 0, 0, 0, 0, 0, 0, 0, 0, 0, 0, ...\n",
              "Name: SMILES, Length: 35299, dtype: object"
            ]
          },
          "metadata": {},
          "execution_count": 41
        }
      ]
    },
    {
      "cell_type": "markdown",
      "source": [
        "Изменим форму датасета, так чтобы каждому элементу вектора сответствовала колонка в датасете."
      ],
      "metadata": {
        "id": "Bgq0gpXVEOC5"
      }
    },
    {
      "cell_type": "code",
      "source": [
        "X = pd.DataFrame(X.to_list(), columns=list(range(len(X[0]))))\n",
        "X"
      ],
      "metadata": {
        "id": "uNE7HwwfdoUZ",
        "colab": {
          "base_uri": "https://localhost:8080/",
          "height": 423
        },
        "outputId": "3f4ce8fd-dcb5-493f-fbc4-b1430d1dc5f6"
      },
      "execution_count": null,
      "outputs": [
        {
          "output_type": "execute_result",
          "data": {
            "text/plain": [
              "       0     1     2     3     4     5     6     7     8     9     ...  2038  \\\n",
              "0         0     0     0     0     0     0     0     0     0     0  ...     0   \n",
              "1         0     0     0     0     0     0     0     0     0     0  ...     0   \n",
              "2         0     0     0     0     0     0     0     0     0     0  ...     0   \n",
              "3         0     0     0     0     0     0     0     0     0     0  ...     0   \n",
              "4         0     1     0     0     0     0     0     0     0     0  ...     0   \n",
              "...     ...   ...   ...   ...   ...   ...   ...   ...   ...   ...  ...   ...   \n",
              "35294     0     0     1     0     0     0     0     0     0     0  ...     0   \n",
              "35295     0     0     1     0     0     0     0     0     0     0  ...     0   \n",
              "35296     0     0     1     0     0     0     0     0     0     0  ...     0   \n",
              "35297     0     0     0     0     0     1     0     0     0     0  ...     0   \n",
              "35298     0     1     0     0     0     0     0     0     0     0  ...     0   \n",
              "\n",
              "       2039  2040  2041  2042  2043  2044  2045  2046  2047  \n",
              "0         0     0     0     0     0     0     0     0     0  \n",
              "1         0     0     0     0     0     0     0     0     0  \n",
              "2         0     0     0     0     0     0     0     0     0  \n",
              "3         0     0     0     0     0     0     0     0     0  \n",
              "4         0     0     0     0     0     0     0     0     0  \n",
              "...     ...   ...   ...   ...   ...   ...   ...   ...   ...  \n",
              "35294     0     0     0     0     0     0     0     0     0  \n",
              "35295     0     0     0     0     0     0     0     0     0  \n",
              "35296     0     0     0     0     0     0     0     0     0  \n",
              "35297     0     0     0     0     0     0     0     0     0  \n",
              "35298     0     0     0     0     0     0     0     0     0  \n",
              "\n",
              "[35299 rows x 2048 columns]"
            ],
            "text/html": [
              "\n",
              "  <div id=\"df-8db16851-5898-456d-826f-43b9550233e9\">\n",
              "    <div class=\"colab-df-container\">\n",
              "      <div>\n",
              "<style scoped>\n",
              "    .dataframe tbody tr th:only-of-type {\n",
              "        vertical-align: middle;\n",
              "    }\n",
              "\n",
              "    .dataframe tbody tr th {\n",
              "        vertical-align: top;\n",
              "    }\n",
              "\n",
              "    .dataframe thead th {\n",
              "        text-align: right;\n",
              "    }\n",
              "</style>\n",
              "<table border=\"1\" class=\"dataframe\">\n",
              "  <thead>\n",
              "    <tr style=\"text-align: right;\">\n",
              "      <th></th>\n",
              "      <th>0</th>\n",
              "      <th>1</th>\n",
              "      <th>2</th>\n",
              "      <th>3</th>\n",
              "      <th>4</th>\n",
              "      <th>5</th>\n",
              "      <th>6</th>\n",
              "      <th>7</th>\n",
              "      <th>8</th>\n",
              "      <th>9</th>\n",
              "      <th>...</th>\n",
              "      <th>2038</th>\n",
              "      <th>2039</th>\n",
              "      <th>2040</th>\n",
              "      <th>2041</th>\n",
              "      <th>2042</th>\n",
              "      <th>2043</th>\n",
              "      <th>2044</th>\n",
              "      <th>2045</th>\n",
              "      <th>2046</th>\n",
              "      <th>2047</th>\n",
              "    </tr>\n",
              "  </thead>\n",
              "  <tbody>\n",
              "    <tr>\n",
              "      <th>0</th>\n",
              "      <td>0</td>\n",
              "      <td>0</td>\n",
              "      <td>0</td>\n",
              "      <td>0</td>\n",
              "      <td>0</td>\n",
              "      <td>0</td>\n",
              "      <td>0</td>\n",
              "      <td>0</td>\n",
              "      <td>0</td>\n",
              "      <td>0</td>\n",
              "      <td>...</td>\n",
              "      <td>0</td>\n",
              "      <td>0</td>\n",
              "      <td>0</td>\n",
              "      <td>0</td>\n",
              "      <td>0</td>\n",
              "      <td>0</td>\n",
              "      <td>0</td>\n",
              "      <td>0</td>\n",
              "      <td>0</td>\n",
              "      <td>0</td>\n",
              "    </tr>\n",
              "    <tr>\n",
              "      <th>1</th>\n",
              "      <td>0</td>\n",
              "      <td>0</td>\n",
              "      <td>0</td>\n",
              "      <td>0</td>\n",
              "      <td>0</td>\n",
              "      <td>0</td>\n",
              "      <td>0</td>\n",
              "      <td>0</td>\n",
              "      <td>0</td>\n",
              "      <td>0</td>\n",
              "      <td>...</td>\n",
              "      <td>0</td>\n",
              "      <td>0</td>\n",
              "      <td>0</td>\n",
              "      <td>0</td>\n",
              "      <td>0</td>\n",
              "      <td>0</td>\n",
              "      <td>0</td>\n",
              "      <td>0</td>\n",
              "      <td>0</td>\n",
              "      <td>0</td>\n",
              "    </tr>\n",
              "    <tr>\n",
              "      <th>2</th>\n",
              "      <td>0</td>\n",
              "      <td>0</td>\n",
              "      <td>0</td>\n",
              "      <td>0</td>\n",
              "      <td>0</td>\n",
              "      <td>0</td>\n",
              "      <td>0</td>\n",
              "      <td>0</td>\n",
              "      <td>0</td>\n",
              "      <td>0</td>\n",
              "      <td>...</td>\n",
              "      <td>0</td>\n",
              "      <td>0</td>\n",
              "      <td>0</td>\n",
              "      <td>0</td>\n",
              "      <td>0</td>\n",
              "      <td>0</td>\n",
              "      <td>0</td>\n",
              "      <td>0</td>\n",
              "      <td>0</td>\n",
              "      <td>0</td>\n",
              "    </tr>\n",
              "    <tr>\n",
              "      <th>3</th>\n",
              "      <td>0</td>\n",
              "      <td>0</td>\n",
              "      <td>0</td>\n",
              "      <td>0</td>\n",
              "      <td>0</td>\n",
              "      <td>0</td>\n",
              "      <td>0</td>\n",
              "      <td>0</td>\n",
              "      <td>0</td>\n",
              "      <td>0</td>\n",
              "      <td>...</td>\n",
              "      <td>0</td>\n",
              "      <td>0</td>\n",
              "      <td>0</td>\n",
              "      <td>0</td>\n",
              "      <td>0</td>\n",
              "      <td>0</td>\n",
              "      <td>0</td>\n",
              "      <td>0</td>\n",
              "      <td>0</td>\n",
              "      <td>0</td>\n",
              "    </tr>\n",
              "    <tr>\n",
              "      <th>4</th>\n",
              "      <td>0</td>\n",
              "      <td>1</td>\n",
              "      <td>0</td>\n",
              "      <td>0</td>\n",
              "      <td>0</td>\n",
              "      <td>0</td>\n",
              "      <td>0</td>\n",
              "      <td>0</td>\n",
              "      <td>0</td>\n",
              "      <td>0</td>\n",
              "      <td>...</td>\n",
              "      <td>0</td>\n",
              "      <td>0</td>\n",
              "      <td>0</td>\n",
              "      <td>0</td>\n",
              "      <td>0</td>\n",
              "      <td>0</td>\n",
              "      <td>0</td>\n",
              "      <td>0</td>\n",
              "      <td>0</td>\n",
              "      <td>0</td>\n",
              "    </tr>\n",
              "    <tr>\n",
              "      <th>...</th>\n",
              "      <td>...</td>\n",
              "      <td>...</td>\n",
              "      <td>...</td>\n",
              "      <td>...</td>\n",
              "      <td>...</td>\n",
              "      <td>...</td>\n",
              "      <td>...</td>\n",
              "      <td>...</td>\n",
              "      <td>...</td>\n",
              "      <td>...</td>\n",
              "      <td>...</td>\n",
              "      <td>...</td>\n",
              "      <td>...</td>\n",
              "      <td>...</td>\n",
              "      <td>...</td>\n",
              "      <td>...</td>\n",
              "      <td>...</td>\n",
              "      <td>...</td>\n",
              "      <td>...</td>\n",
              "      <td>...</td>\n",
              "      <td>...</td>\n",
              "    </tr>\n",
              "    <tr>\n",
              "      <th>35294</th>\n",
              "      <td>0</td>\n",
              "      <td>0</td>\n",
              "      <td>1</td>\n",
              "      <td>0</td>\n",
              "      <td>0</td>\n",
              "      <td>0</td>\n",
              "      <td>0</td>\n",
              "      <td>0</td>\n",
              "      <td>0</td>\n",
              "      <td>0</td>\n",
              "      <td>...</td>\n",
              "      <td>0</td>\n",
              "      <td>0</td>\n",
              "      <td>0</td>\n",
              "      <td>0</td>\n",
              "      <td>0</td>\n",
              "      <td>0</td>\n",
              "      <td>0</td>\n",
              "      <td>0</td>\n",
              "      <td>0</td>\n",
              "      <td>0</td>\n",
              "    </tr>\n",
              "    <tr>\n",
              "      <th>35295</th>\n",
              "      <td>0</td>\n",
              "      <td>0</td>\n",
              "      <td>1</td>\n",
              "      <td>0</td>\n",
              "      <td>0</td>\n",
              "      <td>0</td>\n",
              "      <td>0</td>\n",
              "      <td>0</td>\n",
              "      <td>0</td>\n",
              "      <td>0</td>\n",
              "      <td>...</td>\n",
              "      <td>0</td>\n",
              "      <td>0</td>\n",
              "      <td>0</td>\n",
              "      <td>0</td>\n",
              "      <td>0</td>\n",
              "      <td>0</td>\n",
              "      <td>0</td>\n",
              "      <td>0</td>\n",
              "      <td>0</td>\n",
              "      <td>0</td>\n",
              "    </tr>\n",
              "    <tr>\n",
              "      <th>35296</th>\n",
              "      <td>0</td>\n",
              "      <td>0</td>\n",
              "      <td>1</td>\n",
              "      <td>0</td>\n",
              "      <td>0</td>\n",
              "      <td>0</td>\n",
              "      <td>0</td>\n",
              "      <td>0</td>\n",
              "      <td>0</td>\n",
              "      <td>0</td>\n",
              "      <td>...</td>\n",
              "      <td>0</td>\n",
              "      <td>0</td>\n",
              "      <td>0</td>\n",
              "      <td>0</td>\n",
              "      <td>0</td>\n",
              "      <td>0</td>\n",
              "      <td>0</td>\n",
              "      <td>0</td>\n",
              "      <td>0</td>\n",
              "      <td>0</td>\n",
              "    </tr>\n",
              "    <tr>\n",
              "      <th>35297</th>\n",
              "      <td>0</td>\n",
              "      <td>0</td>\n",
              "      <td>0</td>\n",
              "      <td>0</td>\n",
              "      <td>0</td>\n",
              "      <td>1</td>\n",
              "      <td>0</td>\n",
              "      <td>0</td>\n",
              "      <td>0</td>\n",
              "      <td>0</td>\n",
              "      <td>...</td>\n",
              "      <td>0</td>\n",
              "      <td>0</td>\n",
              "      <td>0</td>\n",
              "      <td>0</td>\n",
              "      <td>0</td>\n",
              "      <td>0</td>\n",
              "      <td>0</td>\n",
              "      <td>0</td>\n",
              "      <td>0</td>\n",
              "      <td>0</td>\n",
              "    </tr>\n",
              "    <tr>\n",
              "      <th>35298</th>\n",
              "      <td>0</td>\n",
              "      <td>1</td>\n",
              "      <td>0</td>\n",
              "      <td>0</td>\n",
              "      <td>0</td>\n",
              "      <td>0</td>\n",
              "      <td>0</td>\n",
              "      <td>0</td>\n",
              "      <td>0</td>\n",
              "      <td>0</td>\n",
              "      <td>...</td>\n",
              "      <td>0</td>\n",
              "      <td>0</td>\n",
              "      <td>0</td>\n",
              "      <td>0</td>\n",
              "      <td>0</td>\n",
              "      <td>0</td>\n",
              "      <td>0</td>\n",
              "      <td>0</td>\n",
              "      <td>0</td>\n",
              "      <td>0</td>\n",
              "    </tr>\n",
              "  </tbody>\n",
              "</table>\n",
              "<p>35299 rows × 2048 columns</p>\n",
              "</div>\n",
              "      <button class=\"colab-df-convert\" onclick=\"convertToInteractive('df-8db16851-5898-456d-826f-43b9550233e9')\"\n",
              "              title=\"Convert this dataframe to an interactive table.\"\n",
              "              style=\"display:none;\">\n",
              "        \n",
              "  <svg xmlns=\"http://www.w3.org/2000/svg\" height=\"24px\"viewBox=\"0 0 24 24\"\n",
              "       width=\"24px\">\n",
              "    <path d=\"M0 0h24v24H0V0z\" fill=\"none\"/>\n",
              "    <path d=\"M18.56 5.44l.94 2.06.94-2.06 2.06-.94-2.06-.94-.94-2.06-.94 2.06-2.06.94zm-11 1L8.5 8.5l.94-2.06 2.06-.94-2.06-.94L8.5 2.5l-.94 2.06-2.06.94zm10 10l.94 2.06.94-2.06 2.06-.94-2.06-.94-.94-2.06-.94 2.06-2.06.94z\"/><path d=\"M17.41 7.96l-1.37-1.37c-.4-.4-.92-.59-1.43-.59-.52 0-1.04.2-1.43.59L10.3 9.45l-7.72 7.72c-.78.78-.78 2.05 0 2.83L4 21.41c.39.39.9.59 1.41.59.51 0 1.02-.2 1.41-.59l7.78-7.78 2.81-2.81c.8-.78.8-2.07 0-2.86zM5.41 20L4 18.59l7.72-7.72 1.47 1.35L5.41 20z\"/>\n",
              "  </svg>\n",
              "      </button>\n",
              "      \n",
              "  <style>\n",
              "    .colab-df-container {\n",
              "      display:flex;\n",
              "      flex-wrap:wrap;\n",
              "      gap: 12px;\n",
              "    }\n",
              "\n",
              "    .colab-df-convert {\n",
              "      background-color: #E8F0FE;\n",
              "      border: none;\n",
              "      border-radius: 50%;\n",
              "      cursor: pointer;\n",
              "      display: none;\n",
              "      fill: #1967D2;\n",
              "      height: 32px;\n",
              "      padding: 0 0 0 0;\n",
              "      width: 32px;\n",
              "    }\n",
              "\n",
              "    .colab-df-convert:hover {\n",
              "      background-color: #E2EBFA;\n",
              "      box-shadow: 0px 1px 2px rgba(60, 64, 67, 0.3), 0px 1px 3px 1px rgba(60, 64, 67, 0.15);\n",
              "      fill: #174EA6;\n",
              "    }\n",
              "\n",
              "    [theme=dark] .colab-df-convert {\n",
              "      background-color: #3B4455;\n",
              "      fill: #D2E3FC;\n",
              "    }\n",
              "\n",
              "    [theme=dark] .colab-df-convert:hover {\n",
              "      background-color: #434B5C;\n",
              "      box-shadow: 0px 1px 3px 1px rgba(0, 0, 0, 0.15);\n",
              "      filter: drop-shadow(0px 1px 2px rgba(0, 0, 0, 0.3));\n",
              "      fill: #FFFFFF;\n",
              "    }\n",
              "  </style>\n",
              "\n",
              "      <script>\n",
              "        const buttonEl =\n",
              "          document.querySelector('#df-8db16851-5898-456d-826f-43b9550233e9 button.colab-df-convert');\n",
              "        buttonEl.style.display =\n",
              "          google.colab.kernel.accessAllowed ? 'block' : 'none';\n",
              "\n",
              "        async function convertToInteractive(key) {\n",
              "          const element = document.querySelector('#df-8db16851-5898-456d-826f-43b9550233e9');\n",
              "          const dataTable =\n",
              "            await google.colab.kernel.invokeFunction('convertToInteractive',\n",
              "                                                     [key], {});\n",
              "          if (!dataTable) return;\n",
              "\n",
              "          const docLinkHtml = 'Like what you see? Visit the ' +\n",
              "            '<a target=\"_blank\" href=https://colab.research.google.com/notebooks/data_table.ipynb>data table notebook</a>'\n",
              "            + ' to learn more about interactive tables.';\n",
              "          element.innerHTML = '';\n",
              "          dataTable['output_type'] = 'display_data';\n",
              "          await google.colab.output.renderOutput(dataTable, element);\n",
              "          const docLink = document.createElement('div');\n",
              "          docLink.innerHTML = docLinkHtml;\n",
              "          element.appendChild(docLink);\n",
              "        }\n",
              "      </script>\n",
              "    </div>\n",
              "  </div>\n",
              "  "
            ]
          },
          "metadata": {},
          "execution_count": 42
        }
      ]
    },
    {
      "cell_type": "markdown",
      "source": [
        "Напишем функцию расчета массы молекул"
      ],
      "metadata": {
        "id": "zVIPwI3zObxo"
      }
    },
    {
      "cell_type": "code",
      "source": [
        "from rdkit.Chem.Descriptors import ExactMolWt\n",
        "data['mass_mol'] = mol_dataset.apply(lambda x: ExactMolWt(x))\n",
        "data['mass_mol'].head()"
      ],
      "metadata": {
        "id": "RM_oFsqVOYMF",
        "colab": {
          "base_uri": "https://localhost:8080/"
        },
        "outputId": "4dc9fb0d-6743-4572-998e-73a3b096c433"
      },
      "execution_count": null,
      "outputs": [
        {
          "output_type": "execute_result",
          "data": {
            "text/plain": [
              "0    110.036779\n",
              "1    189.048955\n",
              "2    287.860066\n",
              "3    129.101445\n",
              "4    150.104465\n",
              "Name: mass_mol, dtype: float64"
            ]
          },
          "metadata": {},
          "execution_count": 43
        }
      ]
    },
    {
      "cell_type": "markdown",
      "source": [
        "Поскольку LD50 в датасете мг\\кг. Для обучения переведем это значение в ммоль\\кг и возьмем от этого значения логарифм"
      ],
      "metadata": {
        "id": "v29FpR9cTwWN"
      }
    },
    {
      "cell_type": "code",
      "source": [
        "import math\n",
        "data['ld_mmol'] = data['mouse_intraperitoneal_LD50']/data['mass_mol']\n",
        "y = data['ld_mmol'].apply(math.log10)\n"
      ],
      "metadata": {
        "id": "UGKqxSqkOoqP"
      },
      "execution_count": null,
      "outputs": []
    },
    {
      "cell_type": "markdown",
      "source": [
        "Поскольку LD50 непрерывный числовой параметр, нам необходима регрессионная модель. Протестируем несколько вариантов классических регрессионных моделей. Начнем с линейной регрессии"
      ],
      "metadata": {
        "id": "k39MpkhOElWd"
      }
    },
    {
      "cell_type": "code",
      "source": [
        "from sklearn.model_selection import train_test_split\n",
        "from sklearn.linear_model import LinearRegression\n",
        "from sklearn.metrics import  mean_squared_error, r2_score"
      ],
      "metadata": {
        "id": "iSf8z9qBSjh7"
      },
      "execution_count": null,
      "outputs": []
    },
    {
      "cell_type": "code",
      "source": [
        "X_train, X_val, y_train, y_val = train_test_split(X, y,\n",
        "                                                    test_size=0.2, random_state=42)\n",
        "\n",
        "model = LinearRegression().fit(X_train, y_train)\n",
        "\n",
        "y_train_pred = model.predict(X_train)\n",
        "y_val_pred_LR = model.predict(X_val)\n",
        "print('MSE train: {:.3f}, test: {:.3f}'.format(\n",
        "        mean_squared_error(y_train, y_train_pred),\n",
        "        mean_squared_error(y_val, y_val_pred_LR)))\n",
        "print('R^2 train: {:.3f}, test: {:.3f}'.format(\n",
        "        r2_score(y_train, y_train_pred),\n",
        "        r2_score(y_val, y_val_pred_LR)))"
      ],
      "metadata": {
        "id": "Cj5jstPlTgeH",
        "colab": {
          "base_uri": "https://localhost:8080/"
        },
        "outputId": "290d5d82-a897-48d8-8c0e-c717bcac5877"
      },
      "execution_count": null,
      "outputs": [
        {
          "output_type": "stream",
          "name": "stdout",
          "text": [
            "MSE train: 0.008, test: 0.009\n",
            "R^2 train: 0.716, test: 0.678\n"
          ]
        }
      ]
    },
    {
      "cell_type": "markdown",
      "source": [
        "Рассмотрим вариант регрессии с деревом решений. Точность стала ниже. Модель явно переобучается"
      ],
      "metadata": {
        "id": "iYwV4AiuFEml"
      }
    },
    {
      "cell_type": "code",
      "source": [
        "from sklearn.tree import DecisionTreeRegressor\n",
        "model = DecisionTreeRegressor()\n",
        "model.fit(X_train, y_train)\n",
        "y_train_pred = model.predict(X_train)\n",
        "y_val_pred_DTR = model.predict(X_val)\n",
        "print('MSE train: {:.3f}, test: {:.3f}'.format(\n",
        "        mean_squared_error(y_train, y_train_pred),\n",
        "        mean_squared_error(y_val, y_val_pred_DTR)))\n",
        "print('R^2 train: {:.3f}, test: {:.3f}'.format(\n",
        "        r2_score(y_train, y_train_pred),\n",
        "        r2_score(y_val, y_val_pred_DTR)))"
      ],
      "metadata": {
        "id": "w-A5TXpBVoAC",
        "colab": {
          "base_uri": "https://localhost:8080/"
        },
        "outputId": "b89e3605-03c4-4e2f-f92c-9b94d65ee895"
      },
      "execution_count": null,
      "outputs": [
        {
          "output_type": "stream",
          "name": "stdout",
          "text": [
            "MSE train: 0.000, test: 0.016\n",
            "R^2 train: 0.997, test: 0.458\n"
          ]
        }
      ]
    },
    {
      "cell_type": "markdown",
      "source": [
        "Рассмотрим Лассо-регрессию"
      ],
      "metadata": {
        "id": "6YRfh8AIJh3H"
      }
    },
    {
      "cell_type": "code",
      "source": [
        "from sklearn.linear_model import LassoCV\n",
        "model = LassoCV()\n",
        "model.fit(X_train, y_train)\n",
        "y_train_pred = model.predict(X_train)\n",
        "y_val_pred_LCV = model.predict(X_val)\n",
        "print('MSE train: {:.3f}, test: {:.3f}'.format(\n",
        "        mean_squared_error(y_train, y_train_pred),\n",
        "        mean_squared_error(y_val, y_val_pred_LCV)))\n",
        "print('R^2 train: {:.3f}, test: {:.3f}'.format(\n",
        "        r2_score(y_train, y_train_pred),\n",
        "        r2_score(y_val, y_val_pred_LCV)))"
      ],
      "metadata": {
        "id": "SjAE6HfU2xNH",
        "colab": {
          "base_uri": "https://localhost:8080/"
        },
        "outputId": "a66ec3d7-dcaf-495a-8c30-2c683134e3f8"
      },
      "execution_count": null,
      "outputs": [
        {
          "output_type": "stream",
          "name": "stdout",
          "text": [
            "MSE train: 0.009, test: 0.009\n",
            "R^2 train: 0.707, test: 0.683\n"
          ]
        }
      ]
    },
    {
      "cell_type": "markdown",
      "source": [
        "Рассмотрим ридж-регрессию. Ридж-регрессия - это один из методов понижения размерности. Часто его применяют для борьбы с переизбыточностью данных, когда независимые переменные коррелируют друг с другом"
      ],
      "metadata": {
        "id": "5OluJoAxJong"
      }
    },
    {
      "cell_type": "code",
      "source": [
        "from sklearn.linear_model import RidgeCV\n",
        "model = RidgeCV()\n",
        "model.fit(X_train, y_train)\n",
        "y_train_pred = model.predict(X_train)\n",
        "y_val_pred_RCV = model.predict(X_val)\n",
        "print('MSE train: {:.3f}, test: {:.3f}'.format(\n",
        "        mean_squared_error(y_train, y_train_pred),\n",
        "        mean_squared_error(y_val, y_val_pred_RCV)))\n",
        "print('R^2 train: {:.3f}, test: {:.3f}'.format(\n",
        "        r2_score(y_train, y_train_pred),\n",
        "        r2_score(y_val, y_val_pred_RCV)))"
      ],
      "metadata": {
        "id": "yjU_330d1KyC",
        "colab": {
          "base_uri": "https://localhost:8080/"
        },
        "outputId": "ebec38ad-43d4-402c-90d4-6654a02c5af5"
      },
      "execution_count": null,
      "outputs": [
        {
          "output_type": "stream",
          "name": "stdout",
          "text": [
            "MSE train: 0.008, test: 0.009\n",
            "R^2 train: 0.715, test: 0.683\n"
          ]
        }
      ]
    },
    {
      "cell_type": "markdown",
      "source": [
        "Рассмотрим ElasticNetCV - модель эластичной сети с итеративной подгонкой по пути регуляризации."
      ],
      "metadata": {
        "id": "ujvVxKzOK-zF"
      }
    },
    {
      "cell_type": "code",
      "source": [
        "from sklearn.linear_model import ElasticNetCV\n",
        "model = ElasticNetCV()\n",
        "model.fit(X_train, y_train)\n",
        "y_train_pred = model.predict(X_train)\n",
        "y_val_pred_ENCV = model.predict(X_val)\n",
        "print('MSE train: {:.3f}, test: {:.3f}'.format(\n",
        "        mean_squared_error(y_train, y_train_pred),\n",
        "        mean_squared_error(y_val, y_val_pred_ENCV)))\n",
        "print('R^2 train: {:.3f}, test: {:.3f}'.format(\n",
        "        r2_score(y_train, y_train_pred),\n",
        "        r2_score(y_val, y_val_pred_ENCV)))"
      ],
      "metadata": {
        "id": "WCALTT7J3tsK",
        "colab": {
          "base_uri": "https://localhost:8080/"
        },
        "outputId": "bb8cc5b0-001c-453f-a9ae-b7630354d7d6"
      },
      "execution_count": null,
      "outputs": [
        {
          "output_type": "stream",
          "name": "stdout",
          "text": [
            "MSE train: 0.009, test: 0.009\n",
            "R^2 train: 0.707, test: 0.683\n"
          ]
        }
      ]
    },
    {
      "cell_type": "markdown",
      "source": [
        "Поскольку у трех последних моделей одинаковая точность, запишем результаты последней модели в файл"
      ],
      "metadata": {
        "id": "7RIG5coCDuY5"
      }
    },
    {
      "cell_type": "code",
      "source": [
        "data_x_val = data[['SMILES', 'mass_mol']]\n",
        "response = pd.merge(data_x_val, X_val, left_index=True, right_index=True)\n",
        "response['LD50_log'] = y_val_pred_ENCV\n",
        "response['LD50'] = (response['LD50_log'].apply(lambda x: 10**x))*response['mass_mol']\n",
        "final = response[['SMILES', 'LD50']]\n",
        "final.to_csv('response_mouse_intraperitoneal_LD50.csv', index=False)"
      ],
      "metadata": {
        "id": "-kuL67LADvdQ"
      },
      "execution_count": null,
      "outputs": []
    },
    {
      "cell_type": "markdown",
      "source": [
        "#Acute toxicity rat intraperitoneal_LD50"
      ],
      "metadata": {
        "id": "XvIUWDDOby3_"
      }
    },
    {
      "cell_type": "markdown",
      "source": [
        "https://drive.google.com/file/d/1Xus2DYXs4_-gI8O3GMqapRgk-D_4CCU2/view?usp=share_link"
      ],
      "metadata": {
        "id": "-Ya4mKrpdMnK"
      }
    },
    {
      "cell_type": "markdown",
      "source": [
        "Загружаем датасет с данными по LD50 для крыс"
      ],
      "metadata": {
        "id": "B4t8LKGdc0PT"
      }
    },
    {
      "cell_type": "code",
      "source": [
        "! gdown --id 1Xus2DYXs4_-gI8O3GMqapRgk-D_4CCU2"
      ],
      "metadata": {
        "colab": {
          "base_uri": "https://localhost:8080/"
        },
        "id": "cRbU2hKxc68x",
        "outputId": "2b8407f0-9809-4b8d-ae7a-801c4df8bd86"
      },
      "execution_count": 1,
      "outputs": [
        {
          "output_type": "stream",
          "name": "stdout",
          "text": [
            "/usr/local/lib/python3.10/dist-packages/gdown/cli.py:121: FutureWarning: Option `--id` was deprecated in version 4.3.1 and will be removed in 5.0. You don't need to pass it anymore to use a file ID.\n",
            "  warnings.warn(\n",
            "Downloading...\n",
            "From: https://drive.google.com/uc?id=1Xus2DYXs4_-gI8O3GMqapRgk-D_4CCU2\n",
            "To: /content/Acute Toxicity_rat_intraperitoneal_LD50.csv\n",
            "100% 907k/907k [00:00<00:00, 102MB/s]\n"
          ]
        }
      ]
    },
    {
      "cell_type": "markdown",
      "source": [
        "Откроем файл с данными"
      ],
      "metadata": {
        "id": "nBGg7SVj-NPj"
      }
    },
    {
      "cell_type": "code",
      "source": [
        "data = pd.read_csv(\"/content/Acute Toxicity_rat_intraperitoneal_LD50.csv\")\n",
        "data.head()"
      ],
      "metadata": {
        "colab": {
          "base_uri": "https://localhost:8080/",
          "height": 409
        },
        "id": "PqqGjKwVeKeT",
        "outputId": "b8c52846-dee3-4975-cd52-e470b45f5127"
      },
      "execution_count": 6,
      "outputs": [
        {
          "output_type": "execute_result",
          "data": {
            "text/plain": [
              "       TAID  Pubchem CID                                         IUPAC Name  \\\n",
              "0   TOX-145          785                                   benzene-1,4-diol   \n",
              "1   TOX-245         5453  tris(aziridin-1-yl)-sulfanylidene-lambda5-phos...   \n",
              "2  TOX-1273          727                  1,2,3,4,5,6-hexachlorocyclohexane   \n",
              "3  TOX-1279         4091       3-(diaminomethylidene)-1,1-dimethylguanidine   \n",
              "4  TOX-1281         8784                          3-phenylprop-2-enoic acid   \n",
              "\n",
              "                         SMILES              Canonical SMILES  \\\n",
              "0                  Oc1ccc(O)cc1                  Oc1ccc(O)cc1   \n",
              "1        S=P(N1CC1)(N1CC1)N1CC1        S=P(N1CC1)(N1CC1)N1CC1   \n",
              "2  ClC1C(Cl)C(Cl)C(Cl)C(Cl)C1Cl  ClC1C(Cl)C(Cl)C(Cl)C(Cl)C1Cl   \n",
              "3             CN(C)C(=N)N=C(N)N             CN(C)C(=N)N=C(N)N   \n",
              "4             O=C(O)C=Cc1ccccc1             O=C(O)C=Cc1ccccc1   \n",
              "\n",
              "                      InChIKey  rat_intraperitoneal_LD50  \n",
              "0  QIGBRXMKCJKVMJ-UHFFFAOYSA-N                  2.811386  \n",
              "1  FOCVUCIESVLUNU-UHFFFAOYSA-N                  4.373886  \n",
              "2  JLYXXMFPNIAWKQ-UHFFFAOYSA-N                  3.919574  \n",
              "3  XZWYZXLIPXDOLR-UHFFFAOYSA-N                  2.412182  \n",
              "4  WBYWAXJHAXSJNI-UHFFFAOYSA-N                  1.966614  "
            ],
            "text/html": [
              "\n",
              "  <div id=\"df-112cf57a-f7cf-4670-a3eb-4a9bdf6d3322\">\n",
              "    <div class=\"colab-df-container\">\n",
              "      <div>\n",
              "<style scoped>\n",
              "    .dataframe tbody tr th:only-of-type {\n",
              "        vertical-align: middle;\n",
              "    }\n",
              "\n",
              "    .dataframe tbody tr th {\n",
              "        vertical-align: top;\n",
              "    }\n",
              "\n",
              "    .dataframe thead th {\n",
              "        text-align: right;\n",
              "    }\n",
              "</style>\n",
              "<table border=\"1\" class=\"dataframe\">\n",
              "  <thead>\n",
              "    <tr style=\"text-align: right;\">\n",
              "      <th></th>\n",
              "      <th>TAID</th>\n",
              "      <th>Pubchem CID</th>\n",
              "      <th>IUPAC Name</th>\n",
              "      <th>SMILES</th>\n",
              "      <th>Canonical SMILES</th>\n",
              "      <th>InChIKey</th>\n",
              "      <th>rat_intraperitoneal_LD50</th>\n",
              "    </tr>\n",
              "  </thead>\n",
              "  <tbody>\n",
              "    <tr>\n",
              "      <th>0</th>\n",
              "      <td>TOX-145</td>\n",
              "      <td>785</td>\n",
              "      <td>benzene-1,4-diol</td>\n",
              "      <td>Oc1ccc(O)cc1</td>\n",
              "      <td>Oc1ccc(O)cc1</td>\n",
              "      <td>QIGBRXMKCJKVMJ-UHFFFAOYSA-N</td>\n",
              "      <td>2.811386</td>\n",
              "    </tr>\n",
              "    <tr>\n",
              "      <th>1</th>\n",
              "      <td>TOX-245</td>\n",
              "      <td>5453</td>\n",
              "      <td>tris(aziridin-1-yl)-sulfanylidene-lambda5-phos...</td>\n",
              "      <td>S=P(N1CC1)(N1CC1)N1CC1</td>\n",
              "      <td>S=P(N1CC1)(N1CC1)N1CC1</td>\n",
              "      <td>FOCVUCIESVLUNU-UHFFFAOYSA-N</td>\n",
              "      <td>4.373886</td>\n",
              "    </tr>\n",
              "    <tr>\n",
              "      <th>2</th>\n",
              "      <td>TOX-1273</td>\n",
              "      <td>727</td>\n",
              "      <td>1,2,3,4,5,6-hexachlorocyclohexane</td>\n",
              "      <td>ClC1C(Cl)C(Cl)C(Cl)C(Cl)C1Cl</td>\n",
              "      <td>ClC1C(Cl)C(Cl)C(Cl)C(Cl)C1Cl</td>\n",
              "      <td>JLYXXMFPNIAWKQ-UHFFFAOYSA-N</td>\n",
              "      <td>3.919574</td>\n",
              "    </tr>\n",
              "    <tr>\n",
              "      <th>3</th>\n",
              "      <td>TOX-1279</td>\n",
              "      <td>4091</td>\n",
              "      <td>3-(diaminomethylidene)-1,1-dimethylguanidine</td>\n",
              "      <td>CN(C)C(=N)N=C(N)N</td>\n",
              "      <td>CN(C)C(=N)N=C(N)N</td>\n",
              "      <td>XZWYZXLIPXDOLR-UHFFFAOYSA-N</td>\n",
              "      <td>2.412182</td>\n",
              "    </tr>\n",
              "    <tr>\n",
              "      <th>4</th>\n",
              "      <td>TOX-1281</td>\n",
              "      <td>8784</td>\n",
              "      <td>3-phenylprop-2-enoic acid</td>\n",
              "      <td>O=C(O)C=Cc1ccccc1</td>\n",
              "      <td>O=C(O)C=Cc1ccccc1</td>\n",
              "      <td>WBYWAXJHAXSJNI-UHFFFAOYSA-N</td>\n",
              "      <td>1.966614</td>\n",
              "    </tr>\n",
              "  </tbody>\n",
              "</table>\n",
              "</div>\n",
              "      <button class=\"colab-df-convert\" onclick=\"convertToInteractive('df-112cf57a-f7cf-4670-a3eb-4a9bdf6d3322')\"\n",
              "              title=\"Convert this dataframe to an interactive table.\"\n",
              "              style=\"display:none;\">\n",
              "        \n",
              "  <svg xmlns=\"http://www.w3.org/2000/svg\" height=\"24px\"viewBox=\"0 0 24 24\"\n",
              "       width=\"24px\">\n",
              "    <path d=\"M0 0h24v24H0V0z\" fill=\"none\"/>\n",
              "    <path d=\"M18.56 5.44l.94 2.06.94-2.06 2.06-.94-2.06-.94-.94-2.06-.94 2.06-2.06.94zm-11 1L8.5 8.5l.94-2.06 2.06-.94-2.06-.94L8.5 2.5l-.94 2.06-2.06.94zm10 10l.94 2.06.94-2.06 2.06-.94-2.06-.94-.94-2.06-.94 2.06-2.06.94z\"/><path d=\"M17.41 7.96l-1.37-1.37c-.4-.4-.92-.59-1.43-.59-.52 0-1.04.2-1.43.59L10.3 9.45l-7.72 7.72c-.78.78-.78 2.05 0 2.83L4 21.41c.39.39.9.59 1.41.59.51 0 1.02-.2 1.41-.59l7.78-7.78 2.81-2.81c.8-.78.8-2.07 0-2.86zM5.41 20L4 18.59l7.72-7.72 1.47 1.35L5.41 20z\"/>\n",
              "  </svg>\n",
              "      </button>\n",
              "      \n",
              "  <style>\n",
              "    .colab-df-container {\n",
              "      display:flex;\n",
              "      flex-wrap:wrap;\n",
              "      gap: 12px;\n",
              "    }\n",
              "\n",
              "    .colab-df-convert {\n",
              "      background-color: #E8F0FE;\n",
              "      border: none;\n",
              "      border-radius: 50%;\n",
              "      cursor: pointer;\n",
              "      display: none;\n",
              "      fill: #1967D2;\n",
              "      height: 32px;\n",
              "      padding: 0 0 0 0;\n",
              "      width: 32px;\n",
              "    }\n",
              "\n",
              "    .colab-df-convert:hover {\n",
              "      background-color: #E2EBFA;\n",
              "      box-shadow: 0px 1px 2px rgba(60, 64, 67, 0.3), 0px 1px 3px 1px rgba(60, 64, 67, 0.15);\n",
              "      fill: #174EA6;\n",
              "    }\n",
              "\n",
              "    [theme=dark] .colab-df-convert {\n",
              "      background-color: #3B4455;\n",
              "      fill: #D2E3FC;\n",
              "    }\n",
              "\n",
              "    [theme=dark] .colab-df-convert:hover {\n",
              "      background-color: #434B5C;\n",
              "      box-shadow: 0px 1px 3px 1px rgba(0, 0, 0, 0.15);\n",
              "      filter: drop-shadow(0px 1px 2px rgba(0, 0, 0, 0.3));\n",
              "      fill: #FFFFFF;\n",
              "    }\n",
              "  </style>\n",
              "\n",
              "      <script>\n",
              "        const buttonEl =\n",
              "          document.querySelector('#df-112cf57a-f7cf-4670-a3eb-4a9bdf6d3322 button.colab-df-convert');\n",
              "        buttonEl.style.display =\n",
              "          google.colab.kernel.accessAllowed ? 'block' : 'none';\n",
              "\n",
              "        async function convertToInteractive(key) {\n",
              "          const element = document.querySelector('#df-112cf57a-f7cf-4670-a3eb-4a9bdf6d3322');\n",
              "          const dataTable =\n",
              "            await google.colab.kernel.invokeFunction('convertToInteractive',\n",
              "                                                     [key], {});\n",
              "          if (!dataTable) return;\n",
              "\n",
              "          const docLinkHtml = 'Like what you see? Visit the ' +\n",
              "            '<a target=\"_blank\" href=https://colab.research.google.com/notebooks/data_table.ipynb>data table notebook</a>'\n",
              "            + ' to learn more about interactive tables.';\n",
              "          element.innerHTML = '';\n",
              "          dataTable['output_type'] = 'display_data';\n",
              "          await google.colab.output.renderOutput(dataTable, element);\n",
              "          const docLink = document.createElement('div');\n",
              "          docLink.innerHTML = docLinkHtml;\n",
              "          element.appendChild(docLink);\n",
              "        }\n",
              "      </script>\n",
              "    </div>\n",
              "  </div>\n",
              "  "
            ]
          },
          "metadata": {},
          "execution_count": 6
        }
      ]
    },
    {
      "cell_type": "markdown",
      "source": [
        "Установим rdkit"
      ],
      "metadata": {
        "id": "y8YZJ_FUyU9d"
      }
    },
    {
      "cell_type": "code",
      "source": [
        "!pip install rdkit"
      ],
      "metadata": {
        "id": "PpRmRM6myehw"
      },
      "execution_count": null,
      "outputs": []
    },
    {
      "cell_type": "markdown",
      "source": [
        "Загрузим необходимые библиотеки"
      ],
      "metadata": {
        "id": "BLF6MyG9zK2l"
      }
    },
    {
      "cell_type": "code",
      "source": [
        "from rdkit import Chem\n",
        "from rdkit.Chem import AllChem\n",
        "import numpy as np"
      ],
      "metadata": {
        "id": "aP6jO0bxzMOm"
      },
      "execution_count": null,
      "outputs": []
    },
    {
      "cell_type": "markdown",
      "source": [
        "Из базы данных нас в первую очередь интересует колонка 'SMILES'. С помощью метода Chem.MolFromSmiles переведем смайлзы в объекты rdkit"
      ],
      "metadata": {
        "id": "979Zl0g4zUtF"
      }
    },
    {
      "cell_type": "code",
      "source": [
        "mol_dataset = data['SMILES'].apply(lambda x: Chem.MolFromSmiles(x))\n",
        "mol_dataset.head()"
      ],
      "metadata": {
        "id": "zHEJpkP6zVor",
        "colab": {
          "base_uri": "https://localhost:8080/"
        },
        "outputId": "56251283-7286-4c8d-d6bc-dfb3dbc1cab0"
      },
      "execution_count": 7,
      "outputs": [
        {
          "output_type": "execute_result",
          "data": {
            "text/plain": [
              "0    <rdkit.Chem.rdchem.Mol object at 0x7fec6889ef10>\n",
              "1    <rdkit.Chem.rdchem.Mol object at 0x7fec6889ec70>\n",
              "2    <rdkit.Chem.rdchem.Mol object at 0x7fec6889ec00>\n",
              "3    <rdkit.Chem.rdchem.Mol object at 0x7fec6889ece0>\n",
              "4    <rdkit.Chem.rdchem.Mol object at 0x7fec6889ed50>\n",
              "Name: SMILES, dtype: object"
            ]
          },
          "metadata": {},
          "execution_count": 7
        }
      ]
    },
    {
      "cell_type": "markdown",
      "source": [
        "Переведем молекулы в векторную форму. В SMILES содержится описание структуры молекулы. Фингерпринт — вектор чисел, описывающий структурный состав молекулы. Моргановский фингерпринт — это универсальный способ представления молекул в виде бинарного вектора, где после конкатенации векторов из свойств атомов применяется хэш-функция. Переведем смайлзы в моргановский фингерпринт."
      ],
      "metadata": {
        "id": "gejkhPnc8ngs"
      }
    },
    {
      "cell_type": "code",
      "source": [
        "X = mol_dataset.apply(lambda x: np.array(list(AllChem.GetMorganFingerprintAsBitVect(x, radius=2, nBits=2048).ToBitString()), dtype=int))\n",
        "X"
      ],
      "metadata": {
        "id": "FLXgQ5Z_8ott",
        "colab": {
          "base_uri": "https://localhost:8080/"
        },
        "outputId": "963abf38-26ea-41cf-de59-5322e49e778c"
      },
      "execution_count": 8,
      "outputs": [
        {
          "output_type": "execute_result",
          "data": {
            "text/plain": [
              "0       [0, 0, 0, 0, 0, 0, 0, 0, 0, 0, 0, 0, 0, 0, 0, ...\n",
              "1       [0, 0, 0, 0, 0, 0, 0, 0, 0, 0, 0, 0, 0, 0, 0, ...\n",
              "2       [0, 0, 0, 0, 0, 0, 0, 0, 0, 0, 0, 0, 0, 0, 0, ...\n",
              "3       [0, 0, 0, 0, 0, 0, 0, 0, 0, 0, 0, 0, 0, 0, 0, ...\n",
              "4       [0, 0, 0, 0, 0, 0, 0, 0, 0, 0, 0, 0, 0, 0, 0, ...\n",
              "                              ...                        \n",
              "4793    [0, 0, 0, 0, 0, 0, 0, 0, 0, 0, 0, 0, 0, 0, 0, ...\n",
              "4794    [0, 0, 1, 0, 0, 1, 0, 0, 0, 0, 0, 0, 0, 0, 0, ...\n",
              "4795    [0, 0, 0, 0, 0, 0, 0, 0, 0, 0, 0, 0, 0, 0, 0, ...\n",
              "4796    [0, 0, 1, 0, 0, 0, 0, 0, 0, 0, 0, 0, 0, 0, 0, ...\n",
              "4797    [0, 0, 0, 0, 0, 0, 0, 0, 0, 0, 0, 0, 0, 0, 0, ...\n",
              "Name: SMILES, Length: 4798, dtype: object"
            ]
          },
          "metadata": {},
          "execution_count": 8
        }
      ]
    },
    {
      "cell_type": "markdown",
      "source": [
        "Изменим форму датасета, так чтобы каждому элементу вектора сответствовала колонка в датасете."
      ],
      "metadata": {
        "id": "todZJW_f8tcy"
      }
    },
    {
      "cell_type": "code",
      "source": [
        "X = pd.DataFrame(X.to_list(), columns=list(range(len(X[0]))))\n",
        "X"
      ],
      "metadata": {
        "id": "g6r1zILP8y1k",
        "colab": {
          "base_uri": "https://localhost:8080/",
          "height": 467
        },
        "outputId": "5ea206c1-2101-49e4-f316-d6a4e84e2575"
      },
      "execution_count": 9,
      "outputs": [
        {
          "output_type": "execute_result",
          "data": {
            "text/plain": [
              "      0     1     2     3     4     5     6     7     8     9     ...  2038  \\\n",
              "0        0     0     0     0     0     0     0     0     0     0  ...     0   \n",
              "1        0     0     0     0     0     0     0     0     0     0  ...     0   \n",
              "2        0     0     0     0     0     0     0     0     0     0  ...     0   \n",
              "3        0     0     0     0     0     0     0     0     0     0  ...     0   \n",
              "4        0     0     0     0     0     0     0     0     0     0  ...     0   \n",
              "...    ...   ...   ...   ...   ...   ...   ...   ...   ...   ...  ...   ...   \n",
              "4793     0     0     0     0     0     0     0     0     0     0  ...     0   \n",
              "4794     0     0     1     0     0     1     0     0     0     0  ...     0   \n",
              "4795     0     0     0     0     0     0     0     0     0     0  ...     0   \n",
              "4796     0     0     1     0     0     0     0     0     0     0  ...     0   \n",
              "4797     0     0     0     0     0     0     0     0     0     0  ...     0   \n",
              "\n",
              "      2039  2040  2041  2042  2043  2044  2045  2046  2047  \n",
              "0        0     0     0     0     0     0     0     0     0  \n",
              "1        0     0     0     0     0     0     0     0     0  \n",
              "2        0     0     0     0     0     0     0     0     0  \n",
              "3        0     0     0     0     0     0     0     0     0  \n",
              "4        0     0     0     0     0     0     0     0     0  \n",
              "...    ...   ...   ...   ...   ...   ...   ...   ...   ...  \n",
              "4793     0     0     0     0     0     0     0     0     0  \n",
              "4794     0     0     0     0     0     0     0     0     0  \n",
              "4795     0     0     0     0     0     0     0     0     0  \n",
              "4796     0     0     0     0     0     0     0     0     0  \n",
              "4797     0     0     0     0     0     0     0     0     0  \n",
              "\n",
              "[4798 rows x 2048 columns]"
            ],
            "text/html": [
              "\n",
              "  <div id=\"df-549effeb-a661-4f3b-869b-d397517415f1\">\n",
              "    <div class=\"colab-df-container\">\n",
              "      <div>\n",
              "<style scoped>\n",
              "    .dataframe tbody tr th:only-of-type {\n",
              "        vertical-align: middle;\n",
              "    }\n",
              "\n",
              "    .dataframe tbody tr th {\n",
              "        vertical-align: top;\n",
              "    }\n",
              "\n",
              "    .dataframe thead th {\n",
              "        text-align: right;\n",
              "    }\n",
              "</style>\n",
              "<table border=\"1\" class=\"dataframe\">\n",
              "  <thead>\n",
              "    <tr style=\"text-align: right;\">\n",
              "      <th></th>\n",
              "      <th>0</th>\n",
              "      <th>1</th>\n",
              "      <th>2</th>\n",
              "      <th>3</th>\n",
              "      <th>4</th>\n",
              "      <th>5</th>\n",
              "      <th>6</th>\n",
              "      <th>7</th>\n",
              "      <th>8</th>\n",
              "      <th>9</th>\n",
              "      <th>...</th>\n",
              "      <th>2038</th>\n",
              "      <th>2039</th>\n",
              "      <th>2040</th>\n",
              "      <th>2041</th>\n",
              "      <th>2042</th>\n",
              "      <th>2043</th>\n",
              "      <th>2044</th>\n",
              "      <th>2045</th>\n",
              "      <th>2046</th>\n",
              "      <th>2047</th>\n",
              "    </tr>\n",
              "  </thead>\n",
              "  <tbody>\n",
              "    <tr>\n",
              "      <th>0</th>\n",
              "      <td>0</td>\n",
              "      <td>0</td>\n",
              "      <td>0</td>\n",
              "      <td>0</td>\n",
              "      <td>0</td>\n",
              "      <td>0</td>\n",
              "      <td>0</td>\n",
              "      <td>0</td>\n",
              "      <td>0</td>\n",
              "      <td>0</td>\n",
              "      <td>...</td>\n",
              "      <td>0</td>\n",
              "      <td>0</td>\n",
              "      <td>0</td>\n",
              "      <td>0</td>\n",
              "      <td>0</td>\n",
              "      <td>0</td>\n",
              "      <td>0</td>\n",
              "      <td>0</td>\n",
              "      <td>0</td>\n",
              "      <td>0</td>\n",
              "    </tr>\n",
              "    <tr>\n",
              "      <th>1</th>\n",
              "      <td>0</td>\n",
              "      <td>0</td>\n",
              "      <td>0</td>\n",
              "      <td>0</td>\n",
              "      <td>0</td>\n",
              "      <td>0</td>\n",
              "      <td>0</td>\n",
              "      <td>0</td>\n",
              "      <td>0</td>\n",
              "      <td>0</td>\n",
              "      <td>...</td>\n",
              "      <td>0</td>\n",
              "      <td>0</td>\n",
              "      <td>0</td>\n",
              "      <td>0</td>\n",
              "      <td>0</td>\n",
              "      <td>0</td>\n",
              "      <td>0</td>\n",
              "      <td>0</td>\n",
              "      <td>0</td>\n",
              "      <td>0</td>\n",
              "    </tr>\n",
              "    <tr>\n",
              "      <th>2</th>\n",
              "      <td>0</td>\n",
              "      <td>0</td>\n",
              "      <td>0</td>\n",
              "      <td>0</td>\n",
              "      <td>0</td>\n",
              "      <td>0</td>\n",
              "      <td>0</td>\n",
              "      <td>0</td>\n",
              "      <td>0</td>\n",
              "      <td>0</td>\n",
              "      <td>...</td>\n",
              "      <td>0</td>\n",
              "      <td>0</td>\n",
              "      <td>0</td>\n",
              "      <td>0</td>\n",
              "      <td>0</td>\n",
              "      <td>0</td>\n",
              "      <td>0</td>\n",
              "      <td>0</td>\n",
              "      <td>0</td>\n",
              "      <td>0</td>\n",
              "    </tr>\n",
              "    <tr>\n",
              "      <th>3</th>\n",
              "      <td>0</td>\n",
              "      <td>0</td>\n",
              "      <td>0</td>\n",
              "      <td>0</td>\n",
              "      <td>0</td>\n",
              "      <td>0</td>\n",
              "      <td>0</td>\n",
              "      <td>0</td>\n",
              "      <td>0</td>\n",
              "      <td>0</td>\n",
              "      <td>...</td>\n",
              "      <td>0</td>\n",
              "      <td>0</td>\n",
              "      <td>0</td>\n",
              "      <td>0</td>\n",
              "      <td>0</td>\n",
              "      <td>0</td>\n",
              "      <td>0</td>\n",
              "      <td>0</td>\n",
              "      <td>0</td>\n",
              "      <td>0</td>\n",
              "    </tr>\n",
              "    <tr>\n",
              "      <th>4</th>\n",
              "      <td>0</td>\n",
              "      <td>0</td>\n",
              "      <td>0</td>\n",
              "      <td>0</td>\n",
              "      <td>0</td>\n",
              "      <td>0</td>\n",
              "      <td>0</td>\n",
              "      <td>0</td>\n",
              "      <td>0</td>\n",
              "      <td>0</td>\n",
              "      <td>...</td>\n",
              "      <td>0</td>\n",
              "      <td>0</td>\n",
              "      <td>0</td>\n",
              "      <td>0</td>\n",
              "      <td>0</td>\n",
              "      <td>0</td>\n",
              "      <td>0</td>\n",
              "      <td>0</td>\n",
              "      <td>0</td>\n",
              "      <td>0</td>\n",
              "    </tr>\n",
              "    <tr>\n",
              "      <th>...</th>\n",
              "      <td>...</td>\n",
              "      <td>...</td>\n",
              "      <td>...</td>\n",
              "      <td>...</td>\n",
              "      <td>...</td>\n",
              "      <td>...</td>\n",
              "      <td>...</td>\n",
              "      <td>...</td>\n",
              "      <td>...</td>\n",
              "      <td>...</td>\n",
              "      <td>...</td>\n",
              "      <td>...</td>\n",
              "      <td>...</td>\n",
              "      <td>...</td>\n",
              "      <td>...</td>\n",
              "      <td>...</td>\n",
              "      <td>...</td>\n",
              "      <td>...</td>\n",
              "      <td>...</td>\n",
              "      <td>...</td>\n",
              "      <td>...</td>\n",
              "    </tr>\n",
              "    <tr>\n",
              "      <th>4793</th>\n",
              "      <td>0</td>\n",
              "      <td>0</td>\n",
              "      <td>0</td>\n",
              "      <td>0</td>\n",
              "      <td>0</td>\n",
              "      <td>0</td>\n",
              "      <td>0</td>\n",
              "      <td>0</td>\n",
              "      <td>0</td>\n",
              "      <td>0</td>\n",
              "      <td>...</td>\n",
              "      <td>0</td>\n",
              "      <td>0</td>\n",
              "      <td>0</td>\n",
              "      <td>0</td>\n",
              "      <td>0</td>\n",
              "      <td>0</td>\n",
              "      <td>0</td>\n",
              "      <td>0</td>\n",
              "      <td>0</td>\n",
              "      <td>0</td>\n",
              "    </tr>\n",
              "    <tr>\n",
              "      <th>4794</th>\n",
              "      <td>0</td>\n",
              "      <td>0</td>\n",
              "      <td>1</td>\n",
              "      <td>0</td>\n",
              "      <td>0</td>\n",
              "      <td>1</td>\n",
              "      <td>0</td>\n",
              "      <td>0</td>\n",
              "      <td>0</td>\n",
              "      <td>0</td>\n",
              "      <td>...</td>\n",
              "      <td>0</td>\n",
              "      <td>0</td>\n",
              "      <td>0</td>\n",
              "      <td>0</td>\n",
              "      <td>0</td>\n",
              "      <td>0</td>\n",
              "      <td>0</td>\n",
              "      <td>0</td>\n",
              "      <td>0</td>\n",
              "      <td>0</td>\n",
              "    </tr>\n",
              "    <tr>\n",
              "      <th>4795</th>\n",
              "      <td>0</td>\n",
              "      <td>0</td>\n",
              "      <td>0</td>\n",
              "      <td>0</td>\n",
              "      <td>0</td>\n",
              "      <td>0</td>\n",
              "      <td>0</td>\n",
              "      <td>0</td>\n",
              "      <td>0</td>\n",
              "      <td>0</td>\n",
              "      <td>...</td>\n",
              "      <td>0</td>\n",
              "      <td>0</td>\n",
              "      <td>0</td>\n",
              "      <td>0</td>\n",
              "      <td>0</td>\n",
              "      <td>0</td>\n",
              "      <td>0</td>\n",
              "      <td>0</td>\n",
              "      <td>0</td>\n",
              "      <td>0</td>\n",
              "    </tr>\n",
              "    <tr>\n",
              "      <th>4796</th>\n",
              "      <td>0</td>\n",
              "      <td>0</td>\n",
              "      <td>1</td>\n",
              "      <td>0</td>\n",
              "      <td>0</td>\n",
              "      <td>0</td>\n",
              "      <td>0</td>\n",
              "      <td>0</td>\n",
              "      <td>0</td>\n",
              "      <td>0</td>\n",
              "      <td>...</td>\n",
              "      <td>0</td>\n",
              "      <td>0</td>\n",
              "      <td>0</td>\n",
              "      <td>0</td>\n",
              "      <td>0</td>\n",
              "      <td>0</td>\n",
              "      <td>0</td>\n",
              "      <td>0</td>\n",
              "      <td>0</td>\n",
              "      <td>0</td>\n",
              "    </tr>\n",
              "    <tr>\n",
              "      <th>4797</th>\n",
              "      <td>0</td>\n",
              "      <td>0</td>\n",
              "      <td>0</td>\n",
              "      <td>0</td>\n",
              "      <td>0</td>\n",
              "      <td>0</td>\n",
              "      <td>0</td>\n",
              "      <td>0</td>\n",
              "      <td>0</td>\n",
              "      <td>0</td>\n",
              "      <td>...</td>\n",
              "      <td>0</td>\n",
              "      <td>0</td>\n",
              "      <td>0</td>\n",
              "      <td>0</td>\n",
              "      <td>0</td>\n",
              "      <td>0</td>\n",
              "      <td>0</td>\n",
              "      <td>0</td>\n",
              "      <td>0</td>\n",
              "      <td>0</td>\n",
              "    </tr>\n",
              "  </tbody>\n",
              "</table>\n",
              "<p>4798 rows × 2048 columns</p>\n",
              "</div>\n",
              "      <button class=\"colab-df-convert\" onclick=\"convertToInteractive('df-549effeb-a661-4f3b-869b-d397517415f1')\"\n",
              "              title=\"Convert this dataframe to an interactive table.\"\n",
              "              style=\"display:none;\">\n",
              "        \n",
              "  <svg xmlns=\"http://www.w3.org/2000/svg\" height=\"24px\"viewBox=\"0 0 24 24\"\n",
              "       width=\"24px\">\n",
              "    <path d=\"M0 0h24v24H0V0z\" fill=\"none\"/>\n",
              "    <path d=\"M18.56 5.44l.94 2.06.94-2.06 2.06-.94-2.06-.94-.94-2.06-.94 2.06-2.06.94zm-11 1L8.5 8.5l.94-2.06 2.06-.94-2.06-.94L8.5 2.5l-.94 2.06-2.06.94zm10 10l.94 2.06.94-2.06 2.06-.94-2.06-.94-.94-2.06-.94 2.06-2.06.94z\"/><path d=\"M17.41 7.96l-1.37-1.37c-.4-.4-.92-.59-1.43-.59-.52 0-1.04.2-1.43.59L10.3 9.45l-7.72 7.72c-.78.78-.78 2.05 0 2.83L4 21.41c.39.39.9.59 1.41.59.51 0 1.02-.2 1.41-.59l7.78-7.78 2.81-2.81c.8-.78.8-2.07 0-2.86zM5.41 20L4 18.59l7.72-7.72 1.47 1.35L5.41 20z\"/>\n",
              "  </svg>\n",
              "      </button>\n",
              "      \n",
              "  <style>\n",
              "    .colab-df-container {\n",
              "      display:flex;\n",
              "      flex-wrap:wrap;\n",
              "      gap: 12px;\n",
              "    }\n",
              "\n",
              "    .colab-df-convert {\n",
              "      background-color: #E8F0FE;\n",
              "      border: none;\n",
              "      border-radius: 50%;\n",
              "      cursor: pointer;\n",
              "      display: none;\n",
              "      fill: #1967D2;\n",
              "      height: 32px;\n",
              "      padding: 0 0 0 0;\n",
              "      width: 32px;\n",
              "    }\n",
              "\n",
              "    .colab-df-convert:hover {\n",
              "      background-color: #E2EBFA;\n",
              "      box-shadow: 0px 1px 2px rgba(60, 64, 67, 0.3), 0px 1px 3px 1px rgba(60, 64, 67, 0.15);\n",
              "      fill: #174EA6;\n",
              "    }\n",
              "\n",
              "    [theme=dark] .colab-df-convert {\n",
              "      background-color: #3B4455;\n",
              "      fill: #D2E3FC;\n",
              "    }\n",
              "\n",
              "    [theme=dark] .colab-df-convert:hover {\n",
              "      background-color: #434B5C;\n",
              "      box-shadow: 0px 1px 3px 1px rgba(0, 0, 0, 0.15);\n",
              "      filter: drop-shadow(0px 1px 2px rgba(0, 0, 0, 0.3));\n",
              "      fill: #FFFFFF;\n",
              "    }\n",
              "  </style>\n",
              "\n",
              "      <script>\n",
              "        const buttonEl =\n",
              "          document.querySelector('#df-549effeb-a661-4f3b-869b-d397517415f1 button.colab-df-convert');\n",
              "        buttonEl.style.display =\n",
              "          google.colab.kernel.accessAllowed ? 'block' : 'none';\n",
              "\n",
              "        async function convertToInteractive(key) {\n",
              "          const element = document.querySelector('#df-549effeb-a661-4f3b-869b-d397517415f1');\n",
              "          const dataTable =\n",
              "            await google.colab.kernel.invokeFunction('convertToInteractive',\n",
              "                                                     [key], {});\n",
              "          if (!dataTable) return;\n",
              "\n",
              "          const docLinkHtml = 'Like what you see? Visit the ' +\n",
              "            '<a target=\"_blank\" href=https://colab.research.google.com/notebooks/data_table.ipynb>data table notebook</a>'\n",
              "            + ' to learn more about interactive tables.';\n",
              "          element.innerHTML = '';\n",
              "          dataTable['output_type'] = 'display_data';\n",
              "          await google.colab.output.renderOutput(dataTable, element);\n",
              "          const docLink = document.createElement('div');\n",
              "          docLink.innerHTML = docLinkHtml;\n",
              "          element.appendChild(docLink);\n",
              "        }\n",
              "      </script>\n",
              "    </div>\n",
              "  </div>\n",
              "  "
            ]
          },
          "metadata": {},
          "execution_count": 9
        }
      ]
    },
    {
      "cell_type": "markdown",
      "source": [
        "Напишем функцию расчета массы молекул"
      ],
      "metadata": {
        "id": "EfQzbgmP83Nj"
      }
    },
    {
      "cell_type": "code",
      "source": [
        "from rdkit.Chem.Descriptors import ExactMolWt\n",
        "data['mass_mol'] = mol_dataset.apply(lambda x: ExactMolWt(x))\n",
        "data['mass_mol'].head()"
      ],
      "metadata": {
        "id": "qxX0V-C089JL",
        "colab": {
          "base_uri": "https://localhost:8080/"
        },
        "outputId": "d2146715-11ae-4d35-a29d-2203a2b2d4b4"
      },
      "execution_count": 10,
      "outputs": [
        {
          "output_type": "execute_result",
          "data": {
            "text/plain": [
              "0    110.036779\n",
              "1    189.048955\n",
              "2    287.860066\n",
              "3    129.101445\n",
              "4    148.052429\n",
              "Name: mass_mol, dtype: float64"
            ]
          },
          "metadata": {},
          "execution_count": 10
        }
      ]
    },
    {
      "cell_type": "markdown",
      "source": [
        "Поскольку LD50 в датасете мг\\кг. Для обучения переведем это значение в ммоль\\кг и возьмем от этого значения логарифм"
      ],
      "metadata": {
        "id": "U0V_pVtDzQx-"
      }
    },
    {
      "cell_type": "code",
      "source": [
        "import math\n",
        "data['ld_mmol'] = data['rat_intraperitoneal_LD50']/data['mass_mol']\n",
        "y = data['ld_mmol'].apply(math.log10)"
      ],
      "metadata": {
        "id": "iQrqsEz8zgHl"
      },
      "execution_count": 13,
      "outputs": []
    },
    {
      "cell_type": "markdown",
      "source": [
        "Поскольку LD50 непрерывный числовой параметр, нам необходима регрессионная модель. Протестируем несколько вариантов классических регрессионных моделей. Начнем с линейной регрессии"
      ],
      "metadata": {
        "id": "xYHBHMp1zj7p"
      }
    },
    {
      "cell_type": "code",
      "source": [
        "from sklearn.model_selection import train_test_split\n",
        "from sklearn.linear_model import LinearRegression\n",
        "from sklearn.metrics import  mean_squared_error, r2_score"
      ],
      "metadata": {
        "id": "RPO6wwSv9JSJ"
      },
      "execution_count": 14,
      "outputs": []
    },
    {
      "cell_type": "code",
      "source": [
        "X_train, X_val, y_train, y_val = train_test_split(X, y,\n",
        "                                                    test_size=0.2, random_state=42)\n",
        "\n",
        "model = LinearRegression().fit(X_train, y_train)\n",
        "\n",
        "y_train_pred = model.predict(X_train)\n",
        "y_val_pred = model.predict(X_val)\n",
        "print('MSE train: {:.3f}, test: {:.3f}'.format(\n",
        "        mean_squared_error(y_train, y_train_pred),\n",
        "        mean_squared_error(y_val, y_val_pred)))\n",
        "print('R^2 train: {:.3f}, test: {:.3f}'.format(\n",
        "        r2_score(y_train, y_train_pred),\n",
        "        r2_score(y_val, y_val_pred)))"
      ],
      "metadata": {
        "id": "ewATNZuW9PKB",
        "colab": {
          "base_uri": "https://localhost:8080/"
        },
        "outputId": "485f613f-49fe-43b2-d80f-316a8f581952"
      },
      "execution_count": 15,
      "outputs": [
        {
          "output_type": "stream",
          "name": "stdout",
          "text": [
            "MSE train: 0.006, test: 0.040\n",
            "R^2 train: 0.868, test: 0.002\n"
          ]
        }
      ]
    },
    {
      "cell_type": "markdown",
      "source": [
        "Рассмотрим вариант регрессии с деревом решений. Точность стала ниже. Модель явно переобучается"
      ],
      "metadata": {
        "id": "VzD2CVvf9aOE"
      }
    },
    {
      "cell_type": "code",
      "source": [
        "from sklearn.tree import DecisionTreeRegressor\n",
        "model = DecisionTreeRegressor()\n",
        "model.fit(X_train, y_train)\n",
        "y_train_pred = model.predict(X_train)\n",
        "y_val_pred = model.predict(X_val)\n",
        "print('MSE train: {:.3f}, test: {:.3f}'.format(\n",
        "        mean_squared_error(y_train, y_train_pred),\n",
        "        mean_squared_error(y_val, y_val_pred)))\n",
        "print('R^2 train: {:.3f}, test: {:.3f}'.format(\n",
        "        r2_score(y_train, y_train_pred),\n",
        "        r2_score(y_val, y_val_pred)))"
      ],
      "metadata": {
        "id": "WbOjPif79bFh",
        "colab": {
          "base_uri": "https://localhost:8080/"
        },
        "outputId": "80e348c9-ae23-4d64-9aee-04a21a9171e1"
      },
      "execution_count": 16,
      "outputs": [
        {
          "output_type": "stream",
          "name": "stdout",
          "text": [
            "MSE train: 0.000, test: 0.026\n",
            "R^2 train: 0.999, test: 0.362\n"
          ]
        }
      ]
    },
    {
      "cell_type": "markdown",
      "source": [
        "Рассмотрим Лассо-регрессию"
      ],
      "metadata": {
        "id": "iIyG4iNj9f8r"
      }
    },
    {
      "cell_type": "code",
      "source": [
        "from sklearn.linear_model import LassoCV\n",
        "model = LassoCV()\n",
        "model.fit(X_train, y_train)\n",
        "y_train_pred = model.predict(X_train)\n",
        "y_val_pred = model.predict(X_val)\n",
        "print('MSE train: {:.3f}, test: {:.3f}'.format(\n",
        "        mean_squared_error(y_train, y_train_pred),\n",
        "        mean_squared_error(y_val, y_val_pred)))\n",
        "print('R^2 train: {:.3f}, test: {:.3f}'.format(\n",
        "        r2_score(y_train, y_train_pred),\n",
        "        r2_score(y_val, y_val_pred)))"
      ],
      "metadata": {
        "id": "okhljZ9H9kbE",
        "colab": {
          "base_uri": "https://localhost:8080/"
        },
        "outputId": "0c94a19f-ecf8-4b11-fa27-e6a970f9e320"
      },
      "execution_count": 17,
      "outputs": [
        {
          "output_type": "stream",
          "name": "stdout",
          "text": [
            "MSE train: 0.012, test: 0.018\n",
            "R^2 train: 0.718, test: 0.549\n"
          ]
        }
      ]
    },
    {
      "cell_type": "markdown",
      "source": [
        "Рассмотрим ридж-регрессию. Ридж-регрессия - это один из методов понижения размерности. Часто его применяют для борьбы с переизбыточностью данных, когда независимые переменные коррелируют друг с другом"
      ],
      "metadata": {
        "id": "njDne0aa9n0j"
      }
    },
    {
      "cell_type": "code",
      "source": [
        "from sklearn.linear_model import RidgeCV\n",
        "model = RidgeCV()\n",
        "model.fit(X_train, y_train)\n",
        "y_train_pred = model.predict(X_train)\n",
        "y_val_pred = model.predict(X_val)\n",
        "print('MSE train: {:.3f}, test: {:.3f}'.format(\n",
        "        mean_squared_error(y_train, y_train_pred),\n",
        "        mean_squared_error(y_val, y_val_pred)))\n",
        "print('R^2 train: {:.3f}, test: {:.3f}'.format(\n",
        "        r2_score(y_train, y_train_pred),\n",
        "        r2_score(y_val, y_val_pred)))"
      ],
      "metadata": {
        "id": "TwwxbQ7d9sTT",
        "colab": {
          "base_uri": "https://localhost:8080/"
        },
        "outputId": "3b66d605-0d5a-403b-fcba-4fec6e6e6be0"
      },
      "execution_count": 18,
      "outputs": [
        {
          "output_type": "stream",
          "name": "stdout",
          "text": [
            "MSE train: 0.009, test: 0.017\n",
            "R^2 train: 0.795, test: 0.587\n"
          ]
        }
      ]
    },
    {
      "cell_type": "markdown",
      "source": [
        "Рассмотрим ElasticNetCV - модель эластичной сети с итеративной подгонкой по пути регуляризации."
      ],
      "metadata": {
        "id": "u7TZ-EpQ9v9G"
      }
    },
    {
      "cell_type": "code",
      "source": [
        "from sklearn.linear_model import ElasticNetCV\n",
        "model = ElasticNetCV()\n",
        "model.fit(X_train, y_train)\n",
        "y_train_pred = model.predict(X_train)\n",
        "y_val_pred = model.predict(X_val)\n",
        "print('MSE train: {:.3f}, test: {:.3f}'.format(\n",
        "        mean_squared_error(y_train, y_train_pred),\n",
        "        mean_squared_error(y_val, y_val_pred)))\n",
        "print('R^2 train: {:.3f}, test: {:.3f}'.format(\n",
        "        r2_score(y_train, y_train_pred),\n",
        "        r2_score(y_val, y_val_pred)))"
      ],
      "metadata": {
        "id": "sAFELlKh906p",
        "colab": {
          "base_uri": "https://localhost:8080/"
        },
        "outputId": "a1188831-dc7f-4c4d-c6d6-e7037fec0fbb"
      },
      "execution_count": 19,
      "outputs": [
        {
          "output_type": "stream",
          "name": "stdout",
          "text": [
            "MSE train: 0.012, test: 0.018\n",
            "R^2 train: 0.716, test: 0.550\n"
          ]
        }
      ]
    },
    {
      "cell_type": "markdown",
      "source": [
        "#Carcinogenicity"
      ],
      "metadata": {
        "id": "qP6g6MOaKIsW"
      }
    },
    {
      "cell_type": "markdown",
      "source": [
        "https://drive.google.com/file/d/14GwAircCUX_yGTGkOP8n99vvUNsnVGK8/view?usp=sharing"
      ],
      "metadata": {
        "id": "UKkmGVvHKQ34"
      }
    },
    {
      "cell_type": "markdown",
      "source": [
        "Загружаем данные"
      ],
      "metadata": {
        "id": "FhXOW-iCBOEp"
      }
    },
    {
      "cell_type": "code",
      "source": [
        "! gdown --id 14GwAircCUX_yGTGkOP8n99vvUNsnVGK8"
      ],
      "metadata": {
        "colab": {
          "base_uri": "https://localhost:8080/"
        },
        "id": "gbGPimADKVze",
        "outputId": "18ba124a-07d5-4253-bd48-0c485476543f"
      },
      "execution_count": 29,
      "outputs": [
        {
          "output_type": "stream",
          "name": "stdout",
          "text": [
            "/usr/local/lib/python3.10/dist-packages/gdown/cli.py:121: FutureWarning: Option `--id` was deprecated in version 4.3.1 and will be removed in 5.0. You don't need to pass it anymore to use a file ID.\n",
            "  warnings.warn(\n",
            "Downloading...\n",
            "From: https://drive.google.com/uc?id=14GwAircCUX_yGTGkOP8n99vvUNsnVGK8\n",
            "To: /content/Carcinogenicity_Carcinogenicity.csv\n",
            "100% 140k/140k [00:00<00:00, 58.2MB/s]\n"
          ]
        }
      ]
    },
    {
      "cell_type": "markdown",
      "source": [
        "Загружаем необходимую библиотеку"
      ],
      "metadata": {
        "id": "h5cAWq33BRf5"
      }
    },
    {
      "cell_type": "code",
      "source": [
        "import pandas as pd"
      ],
      "metadata": {
        "id": "7GfjFOo-Kvbo"
      },
      "execution_count": 27,
      "outputs": []
    },
    {
      "cell_type": "markdown",
      "source": [
        "Откроем загруженный датасет"
      ],
      "metadata": {
        "id": "TZFdercmBUrN"
      }
    },
    {
      "cell_type": "code",
      "source": [
        "data_carcinogen = pd.read_csv('/content/Carcinogenicity_Carcinogenicity.csv')\n",
        "data_carcinogen.head()"
      ],
      "metadata": {
        "colab": {
          "base_uri": "https://localhost:8080/",
          "height": 461
        },
        "id": "TkQVwhrSKmdj",
        "outputId": "59a94a9e-6d73-4155-cae7-131af7b64bbb"
      },
      "execution_count": 30,
      "outputs": [
        {
          "output_type": "execute_result",
          "data": {
            "text/plain": [
              "     TAID             Name                                         IUPAC Name  \\\n",
              "0  TOX-19         mannitol             (2R,3R,4R,5R)-hexane-1,2,3,4,5,6-hexol   \n",
              "1  TOX-28    nitroglycerin                  1,3-dinitrooxypropan-2-yl nitrate   \n",
              "2  TOX-74              NaN                         3,7-dihydropurine-6-thione   \n",
              "3  TOX-78  hexachlorophene  3,4,6-trichloro-2-[(2,3,5-trichloro-6-hydroxyp...   \n",
              "4  TOX-83              NaN                   5-fluoro-1H-pyrimidine-2,4-dione   \n",
              "\n",
              "   PubChem CID                              Canonical SMILES  \\\n",
              "0       6251.0        OC[C@@H](O)[C@@H](O)[C@H](O)[C@H](O)CO   \n",
              "1       4510.0  O=[N+]([O-])OCC(CO[N+](=O)[O-])O[N+](=O)[O-]   \n",
              "2     667490.0                         S=c1nc[nH]c2nc[nH]c12   \n",
              "3       3598.0   Oc1c(Cl)cc(Cl)c(Cl)c1Cc1c(O)c(Cl)cc(Cl)c1Cl   \n",
              "4       3385.0                       O=c1[nH]cc(F)c(=O)[nH]1   \n",
              "\n",
              "                      InChIKey  Toxicity Value  \n",
              "0  FBPFZTCFMRRESA-KVTDHHQDSA-N               0  \n",
              "1  SNIOPGDIGTZGOP-UHFFFAOYSA-N               1  \n",
              "2  GLVAUDGFNGKCSF-UHFFFAOYSA-N               0  \n",
              "3  ACGUYXCXAPNIKK-UHFFFAOYSA-N               0  \n",
              "4  GHASVSINZRGABV-UHFFFAOYSA-N               0  "
            ],
            "text/html": [
              "\n",
              "  <div id=\"df-634d9528-a0e8-4a80-8616-c16bb4e03584\">\n",
              "    <div class=\"colab-df-container\">\n",
              "      <div>\n",
              "<style scoped>\n",
              "    .dataframe tbody tr th:only-of-type {\n",
              "        vertical-align: middle;\n",
              "    }\n",
              "\n",
              "    .dataframe tbody tr th {\n",
              "        vertical-align: top;\n",
              "    }\n",
              "\n",
              "    .dataframe thead th {\n",
              "        text-align: right;\n",
              "    }\n",
              "</style>\n",
              "<table border=\"1\" class=\"dataframe\">\n",
              "  <thead>\n",
              "    <tr style=\"text-align: right;\">\n",
              "      <th></th>\n",
              "      <th>TAID</th>\n",
              "      <th>Name</th>\n",
              "      <th>IUPAC Name</th>\n",
              "      <th>PubChem CID</th>\n",
              "      <th>Canonical SMILES</th>\n",
              "      <th>InChIKey</th>\n",
              "      <th>Toxicity Value</th>\n",
              "    </tr>\n",
              "  </thead>\n",
              "  <tbody>\n",
              "    <tr>\n",
              "      <th>0</th>\n",
              "      <td>TOX-19</td>\n",
              "      <td>mannitol</td>\n",
              "      <td>(2R,3R,4R,5R)-hexane-1,2,3,4,5,6-hexol</td>\n",
              "      <td>6251.0</td>\n",
              "      <td>OC[C@@H](O)[C@@H](O)[C@H](O)[C@H](O)CO</td>\n",
              "      <td>FBPFZTCFMRRESA-KVTDHHQDSA-N</td>\n",
              "      <td>0</td>\n",
              "    </tr>\n",
              "    <tr>\n",
              "      <th>1</th>\n",
              "      <td>TOX-28</td>\n",
              "      <td>nitroglycerin</td>\n",
              "      <td>1,3-dinitrooxypropan-2-yl nitrate</td>\n",
              "      <td>4510.0</td>\n",
              "      <td>O=[N+]([O-])OCC(CO[N+](=O)[O-])O[N+](=O)[O-]</td>\n",
              "      <td>SNIOPGDIGTZGOP-UHFFFAOYSA-N</td>\n",
              "      <td>1</td>\n",
              "    </tr>\n",
              "    <tr>\n",
              "      <th>2</th>\n",
              "      <td>TOX-74</td>\n",
              "      <td>NaN</td>\n",
              "      <td>3,7-dihydropurine-6-thione</td>\n",
              "      <td>667490.0</td>\n",
              "      <td>S=c1nc[nH]c2nc[nH]c12</td>\n",
              "      <td>GLVAUDGFNGKCSF-UHFFFAOYSA-N</td>\n",
              "      <td>0</td>\n",
              "    </tr>\n",
              "    <tr>\n",
              "      <th>3</th>\n",
              "      <td>TOX-78</td>\n",
              "      <td>hexachlorophene</td>\n",
              "      <td>3,4,6-trichloro-2-[(2,3,5-trichloro-6-hydroxyp...</td>\n",
              "      <td>3598.0</td>\n",
              "      <td>Oc1c(Cl)cc(Cl)c(Cl)c1Cc1c(O)c(Cl)cc(Cl)c1Cl</td>\n",
              "      <td>ACGUYXCXAPNIKK-UHFFFAOYSA-N</td>\n",
              "      <td>0</td>\n",
              "    </tr>\n",
              "    <tr>\n",
              "      <th>4</th>\n",
              "      <td>TOX-83</td>\n",
              "      <td>NaN</td>\n",
              "      <td>5-fluoro-1H-pyrimidine-2,4-dione</td>\n",
              "      <td>3385.0</td>\n",
              "      <td>O=c1[nH]cc(F)c(=O)[nH]1</td>\n",
              "      <td>GHASVSINZRGABV-UHFFFAOYSA-N</td>\n",
              "      <td>0</td>\n",
              "    </tr>\n",
              "  </tbody>\n",
              "</table>\n",
              "</div>\n",
              "      <button class=\"colab-df-convert\" onclick=\"convertToInteractive('df-634d9528-a0e8-4a80-8616-c16bb4e03584')\"\n",
              "              title=\"Convert this dataframe to an interactive table.\"\n",
              "              style=\"display:none;\">\n",
              "        \n",
              "  <svg xmlns=\"http://www.w3.org/2000/svg\" height=\"24px\"viewBox=\"0 0 24 24\"\n",
              "       width=\"24px\">\n",
              "    <path d=\"M0 0h24v24H0V0z\" fill=\"none\"/>\n",
              "    <path d=\"M18.56 5.44l.94 2.06.94-2.06 2.06-.94-2.06-.94-.94-2.06-.94 2.06-2.06.94zm-11 1L8.5 8.5l.94-2.06 2.06-.94-2.06-.94L8.5 2.5l-.94 2.06-2.06.94zm10 10l.94 2.06.94-2.06 2.06-.94-2.06-.94-.94-2.06-.94 2.06-2.06.94z\"/><path d=\"M17.41 7.96l-1.37-1.37c-.4-.4-.92-.59-1.43-.59-.52 0-1.04.2-1.43.59L10.3 9.45l-7.72 7.72c-.78.78-.78 2.05 0 2.83L4 21.41c.39.39.9.59 1.41.59.51 0 1.02-.2 1.41-.59l7.78-7.78 2.81-2.81c.8-.78.8-2.07 0-2.86zM5.41 20L4 18.59l7.72-7.72 1.47 1.35L5.41 20z\"/>\n",
              "  </svg>\n",
              "      </button>\n",
              "      \n",
              "  <style>\n",
              "    .colab-df-container {\n",
              "      display:flex;\n",
              "      flex-wrap:wrap;\n",
              "      gap: 12px;\n",
              "    }\n",
              "\n",
              "    .colab-df-convert {\n",
              "      background-color: #E8F0FE;\n",
              "      border: none;\n",
              "      border-radius: 50%;\n",
              "      cursor: pointer;\n",
              "      display: none;\n",
              "      fill: #1967D2;\n",
              "      height: 32px;\n",
              "      padding: 0 0 0 0;\n",
              "      width: 32px;\n",
              "    }\n",
              "\n",
              "    .colab-df-convert:hover {\n",
              "      background-color: #E2EBFA;\n",
              "      box-shadow: 0px 1px 2px rgba(60, 64, 67, 0.3), 0px 1px 3px 1px rgba(60, 64, 67, 0.15);\n",
              "      fill: #174EA6;\n",
              "    }\n",
              "\n",
              "    [theme=dark] .colab-df-convert {\n",
              "      background-color: #3B4455;\n",
              "      fill: #D2E3FC;\n",
              "    }\n",
              "\n",
              "    [theme=dark] .colab-df-convert:hover {\n",
              "      background-color: #434B5C;\n",
              "      box-shadow: 0px 1px 3px 1px rgba(0, 0, 0, 0.15);\n",
              "      filter: drop-shadow(0px 1px 2px rgba(0, 0, 0, 0.3));\n",
              "      fill: #FFFFFF;\n",
              "    }\n",
              "  </style>\n",
              "\n",
              "      <script>\n",
              "        const buttonEl =\n",
              "          document.querySelector('#df-634d9528-a0e8-4a80-8616-c16bb4e03584 button.colab-df-convert');\n",
              "        buttonEl.style.display =\n",
              "          google.colab.kernel.accessAllowed ? 'block' : 'none';\n",
              "\n",
              "        async function convertToInteractive(key) {\n",
              "          const element = document.querySelector('#df-634d9528-a0e8-4a80-8616-c16bb4e03584');\n",
              "          const dataTable =\n",
              "            await google.colab.kernel.invokeFunction('convertToInteractive',\n",
              "                                                     [key], {});\n",
              "          if (!dataTable) return;\n",
              "\n",
              "          const docLinkHtml = 'Like what you see? Visit the ' +\n",
              "            '<a target=\"_blank\" href=https://colab.research.google.com/notebooks/data_table.ipynb>data table notebook</a>'\n",
              "            + ' to learn more about interactive tables.';\n",
              "          element.innerHTML = '';\n",
              "          dataTable['output_type'] = 'display_data';\n",
              "          await google.colab.output.renderOutput(dataTable, element);\n",
              "          const docLink = document.createElement('div');\n",
              "          docLink.innerHTML = docLinkHtml;\n",
              "          element.appendChild(docLink);\n",
              "        }\n",
              "      </script>\n",
              "    </div>\n",
              "  </div>\n",
              "  "
            ]
          },
          "metadata": {},
          "execution_count": 30
        }
      ]
    },
    {
      "cell_type": "markdown",
      "source": [
        "Определим, есть ли среди данных нулевые значения. Если такие присутсвуют, их необходимо удалить до обучения"
      ],
      "metadata": {
        "id": "JKEn_tDFBg_A"
      }
    },
    {
      "cell_type": "code",
      "source": [
        "data_carcinogen['Canonical SMILES'].isna().sum()"
      ],
      "metadata": {
        "colab": {
          "base_uri": "https://localhost:8080/"
        },
        "id": "iZ0yYukxNwpP",
        "outputId": "bad0f4a1-aa1f-4bad-adc6-6522e3bd250b"
      },
      "execution_count": 31,
      "outputs": [
        {
          "output_type": "execute_result",
          "data": {
            "text/plain": [
              "12"
            ]
          },
          "metadata": {},
          "execution_count": 31
        }
      ]
    },
    {
      "cell_type": "markdown",
      "source": [
        "Из базы данных нас в первую очередь интересует колонка 'SMILES'. С помощью метода Chem.MolFromSmiles переведем смайлзы в объекты rdkit"
      ],
      "metadata": {
        "id": "S9MEAE2JB5kQ"
      }
    },
    {
      "cell_type": "code",
      "source": [
        "mol_dataset = data_carcinogen[data_carcinogen['Canonical SMILES'].notna()]['Canonical SMILES'].apply(lambda x: Chem.MolFromSmiles(x))\n",
        "mol_dataset.head()\n"
      ],
      "metadata": {
        "colab": {
          "base_uri": "https://localhost:8080/"
        },
        "id": "quq2yQHYLkgy",
        "outputId": "c79d8416-54a8-49a9-d842-68da282b2bd4"
      },
      "execution_count": 35,
      "outputs": [
        {
          "output_type": "execute_result",
          "data": {
            "text/plain": [
              "0    <rdkit.Chem.rdchem.Mol object at 0x7fec5989d4d0>\n",
              "1    <rdkit.Chem.rdchem.Mol object at 0x7fec5989da10>\n",
              "2    <rdkit.Chem.rdchem.Mol object at 0x7fec5989d5b0>\n",
              "3    <rdkit.Chem.rdchem.Mol object at 0x7fec5989d3f0>\n",
              "4    <rdkit.Chem.rdchem.Mol object at 0x7fec5989d690>\n",
              "Name: Canonical SMILES, dtype: object"
            ]
          },
          "metadata": {},
          "execution_count": 35
        }
      ]
    },
    {
      "cell_type": "markdown",
      "source": [
        "Переведем молекулы в векторную форму. В SMILES содержится описание структуры молекулы. Фингерпринт — вектор чисел, описывающий структурный состав молекулы. Моргановский фингерпринт — это универсальный способ представления молекул в виде бинарного вектора, где после конкатенации векторов из свойств атомов применяется хэш-функция. Переведем смайлзы в моргановский фингерпринт."
      ],
      "metadata": {
        "id": "iQ4AzP94CGPj"
      }
    },
    {
      "cell_type": "code",
      "source": [
        "X = mol_dataset.apply(lambda x: np.array(list(AllChem.GetMorganFingerprintAsBitVect(x, radius=2, nBits=512).ToBitString()), dtype=int))\n",
        "X"
      ],
      "metadata": {
        "id": "0noMajNuUBaF",
        "colab": {
          "base_uri": "https://localhost:8080/"
        },
        "outputId": "91628f7e-f51b-424d-d5a4-3531236b825e"
      },
      "execution_count": 36,
      "outputs": [
        {
          "output_type": "execute_result",
          "data": {
            "text/plain": [
              "0       [0, 1, 0, 0, 0, 0, 0, 0, 0, 0, 0, 0, 0, 0, 0, ...\n",
              "1       [0, 1, 0, 0, 0, 0, 0, 0, 0, 0, 0, 0, 0, 0, 0, ...\n",
              "2       [0, 0, 0, 0, 0, 0, 0, 0, 0, 0, 0, 1, 0, 0, 0, ...\n",
              "3       [0, 0, 0, 0, 0, 0, 0, 0, 0, 0, 0, 0, 0, 0, 0, ...\n",
              "4       [0, 0, 0, 0, 0, 0, 0, 0, 0, 0, 0, 0, 0, 0, 0, ...\n",
              "                              ...                        \n",
              "1016    [0, 0, 1, 0, 0, 0, 0, 0, 0, 0, 0, 0, 0, 0, 0, ...\n",
              "1017    [0, 0, 0, 0, 0, 0, 0, 0, 0, 0, 0, 0, 0, 0, 0, ...\n",
              "1018    [0, 0, 0, 1, 0, 0, 0, 0, 0, 0, 0, 0, 0, 0, 1, ...\n",
              "1019    [0, 0, 0, 1, 0, 0, 0, 0, 0, 0, 0, 0, 0, 0, 1, ...\n",
              "1020    [0, 0, 0, 0, 0, 0, 0, 0, 0, 0, 0, 0, 0, 1, 0, ...\n",
              "Name: Canonical SMILES, Length: 1009, dtype: object"
            ]
          },
          "metadata": {},
          "execution_count": 36
        }
      ]
    },
    {
      "cell_type": "markdown",
      "source": [
        "Изменим форму датасета, так чтобы каждому элементу вектора сответствовала колонка в датасете."
      ],
      "metadata": {
        "id": "AymVqtUpCnDG"
      }
    },
    {
      "cell_type": "code",
      "source": [
        "X = pd.DataFrame(X.to_list(), columns=list(range(len(X[0]))))\n",
        "X"
      ],
      "metadata": {
        "id": "7BgBsoI_WZd3",
        "colab": {
          "base_uri": "https://localhost:8080/",
          "height": 423
        },
        "outputId": "563a7921-b96c-4f08-a885-5e70a0845e38"
      },
      "execution_count": 37,
      "outputs": [
        {
          "output_type": "execute_result",
          "data": {
            "text/plain": [
              "      0    1    2    3    4    5    6    7    8    9    ...  502  503  504  \\\n",
              "0       0    1    0    0    0    0    0    0    0    0  ...    0    0    0   \n",
              "1       0    1    0    0    0    0    0    0    0    0  ...    0    0    0   \n",
              "2       0    0    0    0    0    0    0    0    0    0  ...    0    0    0   \n",
              "3       0    0    0    0    0    0    0    0    0    0  ...    0    0    0   \n",
              "4       0    0    0    0    0    0    0    0    0    0  ...    0    0    0   \n",
              "...   ...  ...  ...  ...  ...  ...  ...  ...  ...  ...  ...  ...  ...  ...   \n",
              "1004    0    0    1    0    0    0    0    0    0    0  ...    0    0    0   \n",
              "1005    0    0    0    0    0    0    0    0    0    0  ...    0    0    0   \n",
              "1006    0    0    0    1    0    0    0    0    0    0  ...    0    0    0   \n",
              "1007    0    0    0    1    0    0    0    0    0    0  ...    0    0    0   \n",
              "1008    0    0    0    0    0    0    0    0    0    0  ...    0    0    0   \n",
              "\n",
              "      505  506  507  508  509  510  511  \n",
              "0       0    0    0    0    0    0    0  \n",
              "1       0    0    0    0    0    0    0  \n",
              "2       0    1    0    0    0    0    0  \n",
              "3       0    0    0    0    0    0    0  \n",
              "4       0    0    0    0    0    0    0  \n",
              "...   ...  ...  ...  ...  ...  ...  ...  \n",
              "1004    0    0    1    0    0    0    0  \n",
              "1005    1    0    0    0    0    0    0  \n",
              "1006    0    0    0    0    0    0    0  \n",
              "1007    0    0    0    0    0    0    0  \n",
              "1008    0    0    0    0    0    0    0  \n",
              "\n",
              "[1009 rows x 512 columns]"
            ],
            "text/html": [
              "\n",
              "  <div id=\"df-52a9f4bb-4d4e-48b0-b98a-ffacf117d338\">\n",
              "    <div class=\"colab-df-container\">\n",
              "      <div>\n",
              "<style scoped>\n",
              "    .dataframe tbody tr th:only-of-type {\n",
              "        vertical-align: middle;\n",
              "    }\n",
              "\n",
              "    .dataframe tbody tr th {\n",
              "        vertical-align: top;\n",
              "    }\n",
              "\n",
              "    .dataframe thead th {\n",
              "        text-align: right;\n",
              "    }\n",
              "</style>\n",
              "<table border=\"1\" class=\"dataframe\">\n",
              "  <thead>\n",
              "    <tr style=\"text-align: right;\">\n",
              "      <th></th>\n",
              "      <th>0</th>\n",
              "      <th>1</th>\n",
              "      <th>2</th>\n",
              "      <th>3</th>\n",
              "      <th>4</th>\n",
              "      <th>5</th>\n",
              "      <th>6</th>\n",
              "      <th>7</th>\n",
              "      <th>8</th>\n",
              "      <th>9</th>\n",
              "      <th>...</th>\n",
              "      <th>502</th>\n",
              "      <th>503</th>\n",
              "      <th>504</th>\n",
              "      <th>505</th>\n",
              "      <th>506</th>\n",
              "      <th>507</th>\n",
              "      <th>508</th>\n",
              "      <th>509</th>\n",
              "      <th>510</th>\n",
              "      <th>511</th>\n",
              "    </tr>\n",
              "  </thead>\n",
              "  <tbody>\n",
              "    <tr>\n",
              "      <th>0</th>\n",
              "      <td>0</td>\n",
              "      <td>1</td>\n",
              "      <td>0</td>\n",
              "      <td>0</td>\n",
              "      <td>0</td>\n",
              "      <td>0</td>\n",
              "      <td>0</td>\n",
              "      <td>0</td>\n",
              "      <td>0</td>\n",
              "      <td>0</td>\n",
              "      <td>...</td>\n",
              "      <td>0</td>\n",
              "      <td>0</td>\n",
              "      <td>0</td>\n",
              "      <td>0</td>\n",
              "      <td>0</td>\n",
              "      <td>0</td>\n",
              "      <td>0</td>\n",
              "      <td>0</td>\n",
              "      <td>0</td>\n",
              "      <td>0</td>\n",
              "    </tr>\n",
              "    <tr>\n",
              "      <th>1</th>\n",
              "      <td>0</td>\n",
              "      <td>1</td>\n",
              "      <td>0</td>\n",
              "      <td>0</td>\n",
              "      <td>0</td>\n",
              "      <td>0</td>\n",
              "      <td>0</td>\n",
              "      <td>0</td>\n",
              "      <td>0</td>\n",
              "      <td>0</td>\n",
              "      <td>...</td>\n",
              "      <td>0</td>\n",
              "      <td>0</td>\n",
              "      <td>0</td>\n",
              "      <td>0</td>\n",
              "      <td>0</td>\n",
              "      <td>0</td>\n",
              "      <td>0</td>\n",
              "      <td>0</td>\n",
              "      <td>0</td>\n",
              "      <td>0</td>\n",
              "    </tr>\n",
              "    <tr>\n",
              "      <th>2</th>\n",
              "      <td>0</td>\n",
              "      <td>0</td>\n",
              "      <td>0</td>\n",
              "      <td>0</td>\n",
              "      <td>0</td>\n",
              "      <td>0</td>\n",
              "      <td>0</td>\n",
              "      <td>0</td>\n",
              "      <td>0</td>\n",
              "      <td>0</td>\n",
              "      <td>...</td>\n",
              "      <td>0</td>\n",
              "      <td>0</td>\n",
              "      <td>0</td>\n",
              "      <td>0</td>\n",
              "      <td>1</td>\n",
              "      <td>0</td>\n",
              "      <td>0</td>\n",
              "      <td>0</td>\n",
              "      <td>0</td>\n",
              "      <td>0</td>\n",
              "    </tr>\n",
              "    <tr>\n",
              "      <th>3</th>\n",
              "      <td>0</td>\n",
              "      <td>0</td>\n",
              "      <td>0</td>\n",
              "      <td>0</td>\n",
              "      <td>0</td>\n",
              "      <td>0</td>\n",
              "      <td>0</td>\n",
              "      <td>0</td>\n",
              "      <td>0</td>\n",
              "      <td>0</td>\n",
              "      <td>...</td>\n",
              "      <td>0</td>\n",
              "      <td>0</td>\n",
              "      <td>0</td>\n",
              "      <td>0</td>\n",
              "      <td>0</td>\n",
              "      <td>0</td>\n",
              "      <td>0</td>\n",
              "      <td>0</td>\n",
              "      <td>0</td>\n",
              "      <td>0</td>\n",
              "    </tr>\n",
              "    <tr>\n",
              "      <th>4</th>\n",
              "      <td>0</td>\n",
              "      <td>0</td>\n",
              "      <td>0</td>\n",
              "      <td>0</td>\n",
              "      <td>0</td>\n",
              "      <td>0</td>\n",
              "      <td>0</td>\n",
              "      <td>0</td>\n",
              "      <td>0</td>\n",
              "      <td>0</td>\n",
              "      <td>...</td>\n",
              "      <td>0</td>\n",
              "      <td>0</td>\n",
              "      <td>0</td>\n",
              "      <td>0</td>\n",
              "      <td>0</td>\n",
              "      <td>0</td>\n",
              "      <td>0</td>\n",
              "      <td>0</td>\n",
              "      <td>0</td>\n",
              "      <td>0</td>\n",
              "    </tr>\n",
              "    <tr>\n",
              "      <th>...</th>\n",
              "      <td>...</td>\n",
              "      <td>...</td>\n",
              "      <td>...</td>\n",
              "      <td>...</td>\n",
              "      <td>...</td>\n",
              "      <td>...</td>\n",
              "      <td>...</td>\n",
              "      <td>...</td>\n",
              "      <td>...</td>\n",
              "      <td>...</td>\n",
              "      <td>...</td>\n",
              "      <td>...</td>\n",
              "      <td>...</td>\n",
              "      <td>...</td>\n",
              "      <td>...</td>\n",
              "      <td>...</td>\n",
              "      <td>...</td>\n",
              "      <td>...</td>\n",
              "      <td>...</td>\n",
              "      <td>...</td>\n",
              "      <td>...</td>\n",
              "    </tr>\n",
              "    <tr>\n",
              "      <th>1004</th>\n",
              "      <td>0</td>\n",
              "      <td>0</td>\n",
              "      <td>1</td>\n",
              "      <td>0</td>\n",
              "      <td>0</td>\n",
              "      <td>0</td>\n",
              "      <td>0</td>\n",
              "      <td>0</td>\n",
              "      <td>0</td>\n",
              "      <td>0</td>\n",
              "      <td>...</td>\n",
              "      <td>0</td>\n",
              "      <td>0</td>\n",
              "      <td>0</td>\n",
              "      <td>0</td>\n",
              "      <td>0</td>\n",
              "      <td>1</td>\n",
              "      <td>0</td>\n",
              "      <td>0</td>\n",
              "      <td>0</td>\n",
              "      <td>0</td>\n",
              "    </tr>\n",
              "    <tr>\n",
              "      <th>1005</th>\n",
              "      <td>0</td>\n",
              "      <td>0</td>\n",
              "      <td>0</td>\n",
              "      <td>0</td>\n",
              "      <td>0</td>\n",
              "      <td>0</td>\n",
              "      <td>0</td>\n",
              "      <td>0</td>\n",
              "      <td>0</td>\n",
              "      <td>0</td>\n",
              "      <td>...</td>\n",
              "      <td>0</td>\n",
              "      <td>0</td>\n",
              "      <td>0</td>\n",
              "      <td>1</td>\n",
              "      <td>0</td>\n",
              "      <td>0</td>\n",
              "      <td>0</td>\n",
              "      <td>0</td>\n",
              "      <td>0</td>\n",
              "      <td>0</td>\n",
              "    </tr>\n",
              "    <tr>\n",
              "      <th>1006</th>\n",
              "      <td>0</td>\n",
              "      <td>0</td>\n",
              "      <td>0</td>\n",
              "      <td>1</td>\n",
              "      <td>0</td>\n",
              "      <td>0</td>\n",
              "      <td>0</td>\n",
              "      <td>0</td>\n",
              "      <td>0</td>\n",
              "      <td>0</td>\n",
              "      <td>...</td>\n",
              "      <td>0</td>\n",
              "      <td>0</td>\n",
              "      <td>0</td>\n",
              "      <td>0</td>\n",
              "      <td>0</td>\n",
              "      <td>0</td>\n",
              "      <td>0</td>\n",
              "      <td>0</td>\n",
              "      <td>0</td>\n",
              "      <td>0</td>\n",
              "    </tr>\n",
              "    <tr>\n",
              "      <th>1007</th>\n",
              "      <td>0</td>\n",
              "      <td>0</td>\n",
              "      <td>0</td>\n",
              "      <td>1</td>\n",
              "      <td>0</td>\n",
              "      <td>0</td>\n",
              "      <td>0</td>\n",
              "      <td>0</td>\n",
              "      <td>0</td>\n",
              "      <td>0</td>\n",
              "      <td>...</td>\n",
              "      <td>0</td>\n",
              "      <td>0</td>\n",
              "      <td>0</td>\n",
              "      <td>0</td>\n",
              "      <td>0</td>\n",
              "      <td>0</td>\n",
              "      <td>0</td>\n",
              "      <td>0</td>\n",
              "      <td>0</td>\n",
              "      <td>0</td>\n",
              "    </tr>\n",
              "    <tr>\n",
              "      <th>1008</th>\n",
              "      <td>0</td>\n",
              "      <td>0</td>\n",
              "      <td>0</td>\n",
              "      <td>0</td>\n",
              "      <td>0</td>\n",
              "      <td>0</td>\n",
              "      <td>0</td>\n",
              "      <td>0</td>\n",
              "      <td>0</td>\n",
              "      <td>0</td>\n",
              "      <td>...</td>\n",
              "      <td>0</td>\n",
              "      <td>0</td>\n",
              "      <td>0</td>\n",
              "      <td>0</td>\n",
              "      <td>0</td>\n",
              "      <td>0</td>\n",
              "      <td>0</td>\n",
              "      <td>0</td>\n",
              "      <td>0</td>\n",
              "      <td>0</td>\n",
              "    </tr>\n",
              "  </tbody>\n",
              "</table>\n",
              "<p>1009 rows × 512 columns</p>\n",
              "</div>\n",
              "      <button class=\"colab-df-convert\" onclick=\"convertToInteractive('df-52a9f4bb-4d4e-48b0-b98a-ffacf117d338')\"\n",
              "              title=\"Convert this dataframe to an interactive table.\"\n",
              "              style=\"display:none;\">\n",
              "        \n",
              "  <svg xmlns=\"http://www.w3.org/2000/svg\" height=\"24px\"viewBox=\"0 0 24 24\"\n",
              "       width=\"24px\">\n",
              "    <path d=\"M0 0h24v24H0V0z\" fill=\"none\"/>\n",
              "    <path d=\"M18.56 5.44l.94 2.06.94-2.06 2.06-.94-2.06-.94-.94-2.06-.94 2.06-2.06.94zm-11 1L8.5 8.5l.94-2.06 2.06-.94-2.06-.94L8.5 2.5l-.94 2.06-2.06.94zm10 10l.94 2.06.94-2.06 2.06-.94-2.06-.94-.94-2.06-.94 2.06-2.06.94z\"/><path d=\"M17.41 7.96l-1.37-1.37c-.4-.4-.92-.59-1.43-.59-.52 0-1.04.2-1.43.59L10.3 9.45l-7.72 7.72c-.78.78-.78 2.05 0 2.83L4 21.41c.39.39.9.59 1.41.59.51 0 1.02-.2 1.41-.59l7.78-7.78 2.81-2.81c.8-.78.8-2.07 0-2.86zM5.41 20L4 18.59l7.72-7.72 1.47 1.35L5.41 20z\"/>\n",
              "  </svg>\n",
              "      </button>\n",
              "      \n",
              "  <style>\n",
              "    .colab-df-container {\n",
              "      display:flex;\n",
              "      flex-wrap:wrap;\n",
              "      gap: 12px;\n",
              "    }\n",
              "\n",
              "    .colab-df-convert {\n",
              "      background-color: #E8F0FE;\n",
              "      border: none;\n",
              "      border-radius: 50%;\n",
              "      cursor: pointer;\n",
              "      display: none;\n",
              "      fill: #1967D2;\n",
              "      height: 32px;\n",
              "      padding: 0 0 0 0;\n",
              "      width: 32px;\n",
              "    }\n",
              "\n",
              "    .colab-df-convert:hover {\n",
              "      background-color: #E2EBFA;\n",
              "      box-shadow: 0px 1px 2px rgba(60, 64, 67, 0.3), 0px 1px 3px 1px rgba(60, 64, 67, 0.15);\n",
              "      fill: #174EA6;\n",
              "    }\n",
              "\n",
              "    [theme=dark] .colab-df-convert {\n",
              "      background-color: #3B4455;\n",
              "      fill: #D2E3FC;\n",
              "    }\n",
              "\n",
              "    [theme=dark] .colab-df-convert:hover {\n",
              "      background-color: #434B5C;\n",
              "      box-shadow: 0px 1px 3px 1px rgba(0, 0, 0, 0.15);\n",
              "      filter: drop-shadow(0px 1px 2px rgba(0, 0, 0, 0.3));\n",
              "      fill: #FFFFFF;\n",
              "    }\n",
              "  </style>\n",
              "\n",
              "      <script>\n",
              "        const buttonEl =\n",
              "          document.querySelector('#df-52a9f4bb-4d4e-48b0-b98a-ffacf117d338 button.colab-df-convert');\n",
              "        buttonEl.style.display =\n",
              "          google.colab.kernel.accessAllowed ? 'block' : 'none';\n",
              "\n",
              "        async function convertToInteractive(key) {\n",
              "          const element = document.querySelector('#df-52a9f4bb-4d4e-48b0-b98a-ffacf117d338');\n",
              "          const dataTable =\n",
              "            await google.colab.kernel.invokeFunction('convertToInteractive',\n",
              "                                                     [key], {});\n",
              "          if (!dataTable) return;\n",
              "\n",
              "          const docLinkHtml = 'Like what you see? Visit the ' +\n",
              "            '<a target=\"_blank\" href=https://colab.research.google.com/notebooks/data_table.ipynb>data table notebook</a>'\n",
              "            + ' to learn more about interactive tables.';\n",
              "          element.innerHTML = '';\n",
              "          dataTable['output_type'] = 'display_data';\n",
              "          await google.colab.output.renderOutput(dataTable, element);\n",
              "          const docLink = document.createElement('div');\n",
              "          docLink.innerHTML = docLinkHtml;\n",
              "          element.appendChild(docLink);\n",
              "        }\n",
              "      </script>\n",
              "    </div>\n",
              "  </div>\n",
              "  "
            ]
          },
          "metadata": {},
          "execution_count": 37
        }
      ]
    },
    {
      "cell_type": "code",
      "source": [
        "y = data_carcinogen[data_carcinogen['Canonical SMILES'].notna()]['Toxicity Value']\n",
        "y.head()"
      ],
      "metadata": {
        "id": "5gk4YEvULmZx",
        "colab": {
          "base_uri": "https://localhost:8080/"
        },
        "outputId": "3be37cfa-8f9b-4a1c-a381-329d5e55283f"
      },
      "execution_count": 39,
      "outputs": [
        {
          "output_type": "execute_result",
          "data": {
            "text/plain": [
              "0    0\n",
              "1    1\n",
              "2    0\n",
              "3    0\n",
              "4    0\n",
              "Name: Toxicity Value, dtype: int64"
            ]
          },
          "metadata": {},
          "execution_count": 39
        }
      ]
    },
    {
      "cell_type": "markdown",
      "source": [
        "Загрузим необходимые библиотеки, разделим базу данных на базу для обучения и базу для предсказания"
      ],
      "metadata": {
        "id": "NuB-0_YeHfCN"
      }
    },
    {
      "cell_type": "code",
      "source": [
        "from sklearn.model_selection import train_test_split\n",
        "from sklearn.metrics import accuracy_score\n",
        "X_train, X_val, y_train, y_val = train_test_split(X, y, test_size=0.2, random_state=42)\n"
      ],
      "metadata": {
        "id": "zqZ_d6t8UVaP"
      },
      "execution_count": 40,
      "outputs": []
    },
    {
      "cell_type": "markdown",
      "source": [
        "Реализуем модель дерево решений"
      ],
      "metadata": {
        "id": "VOymdi7dU7Iv"
      }
    },
    {
      "cell_type": "code",
      "source": [
        "from sklearn import tree\n",
        "clf_tree = tree.DecisionTreeClassifier()\n",
        "clf_tree.fit(X_train, y_train)\n",
        "y_pred_tree = clf_tree.predict(X_val)\n",
        "print(accuracy_score(y_val, y_pred_tree))"
      ],
      "metadata": {
        "id": "E6le2lHnU-pT",
        "colab": {
          "base_uri": "https://localhost:8080/"
        },
        "outputId": "598105c2-2820-4319-d1bb-9b1b2e814855"
      },
      "execution_count": 42,
      "outputs": [
        {
          "output_type": "stream",
          "name": "stdout",
          "text": [
            "0.599009900990099\n"
          ]
        }
      ]
    },
    {
      "cell_type": "markdown",
      "source": [
        "Реализуем модель рандомный лес"
      ],
      "metadata": {
        "id": "p8zu0o43W1qC"
      }
    },
    {
      "cell_type": "code",
      "source": [
        "from sklearn.ensemble import RandomForestClassifier\n",
        "clf_rf = RandomForestClassifier()\n",
        "clf_rf.fit(X_train, y_train)\n",
        "y_pred_rf = clf_rf.predict(X_val)\n",
        "print(accuracy_score(y_val, y_pred_rf))\n"
      ],
      "metadata": {
        "id": "mISuSnCfW0YV",
        "colab": {
          "base_uri": "https://localhost:8080/"
        },
        "outputId": "f5dc2e78-0f77-45dd-ee8a-a97840148835"
      },
      "execution_count": 43,
      "outputs": [
        {
          "output_type": "stream",
          "name": "stdout",
          "text": [
            "0.7029702970297029\n"
          ]
        }
      ]
    },
    {
      "cell_type": "markdown",
      "source": [
        "Реализуем модель Наивный Баес"
      ],
      "metadata": {
        "id": "Nhjp1EiAXXgk"
      }
    },
    {
      "cell_type": "code",
      "source": [
        "from sklearn.naive_bayes import GaussianNB\n",
        "clf_nb = GaussianNB()\n",
        "clf_nb.fit(X_train, y_train)\n",
        "y_pred_nb = clf_nb.predict(X_val)\n",
        "print(accuracy_score(y_val, y_pred_nb))\n"
      ],
      "metadata": {
        "id": "9pyX7-4pXHgd",
        "colab": {
          "base_uri": "https://localhost:8080/"
        },
        "outputId": "5731c75b-4889-450d-c85c-e313d1abfc6e"
      },
      "execution_count": 44,
      "outputs": [
        {
          "output_type": "stream",
          "name": "stdout",
          "text": [
            "0.6237623762376238\n"
          ]
        }
      ]
    },
    {
      "cell_type": "markdown",
      "source": [
        "Реализуем модель SGD классификатор"
      ],
      "metadata": {
        "id": "jalZstdHC45o"
      }
    },
    {
      "cell_type": "code",
      "source": [
        "from sklearn.linear_model import SGDClassifier\n",
        "clf_sgdc = SGDClassifier()\n",
        "clf_sgdc.fit(X_train, y_train)\n",
        "y_pred_sgd = clf_sgdc.predict(X_val)\n",
        "print(accuracy_score(y_val, y_pred_sgd))\n"
      ],
      "metadata": {
        "id": "KUCPsVbIXrlB",
        "colab": {
          "base_uri": "https://localhost:8080/"
        },
        "outputId": "9e1d6bf9-faf2-444f-ee91-0f24dce12925"
      },
      "execution_count": 45,
      "outputs": [
        {
          "output_type": "stream",
          "name": "stdout",
          "text": [
            "0.6039603960396039\n"
          ]
        }
      ]
    },
    {
      "cell_type": "markdown",
      "source": [
        "Реализуем модель линейный SVC"
      ],
      "metadata": {
        "id": "zLV_XXgdC-hy"
      }
    },
    {
      "cell_type": "code",
      "source": [
        "from sklearn.svm import LinearSVC\n",
        "clf_svc = LinearSVC()\n",
        "clf_svc.fit(X_train, y_train)\n",
        "y_pred_svc = clf_svc.predict(X_val)\n",
        "print(accuracy_score(y_val, y_pred_svc))\n"
      ],
      "metadata": {
        "id": "jjVV6nyYX4vi",
        "colab": {
          "base_uri": "https://localhost:8080/"
        },
        "outputId": "72a47597-74f6-4f5b-ccfb-9ef7b12c6684"
      },
      "execution_count": 46,
      "outputs": [
        {
          "output_type": "stream",
          "name": "stdout",
          "text": [
            "0.6237623762376238\n"
          ]
        }
      ]
    },
    {
      "cell_type": "markdown",
      "source": [
        "Поскольку рандомный лес показал наилучший результат, то запишем результаты модели рандомного в файл"
      ],
      "metadata": {
        "id": "nylcyx7qerWR"
      }
    },
    {
      "cell_type": "code",
      "source": [
        "data_x_val = data[data['Canonical SMILES'].notna()]['Canonical SMILES']\n",
        "response = pd.merge(data_x_val, X_val, how ='right', left_index=True, right_index=True)\n",
        "response['сarcinogen'] = y_pred_rf \n",
        "final = response[['Canonical SMILES', 'сarcinogen']]\n",
        "final.to_csv('response_сarcinogen.csv', index=False)"
      ],
      "metadata": {
        "id": "m42aE21ce2ZP"
      },
      "execution_count": 47,
      "outputs": []
    },
    {
      "cell_type": "markdown",
      "source": [
        "#Endocrine Disruption NR-AR-LBD"
      ],
      "metadata": {
        "id": "zNMjESIVjyiV"
      }
    },
    {
      "cell_type": "markdown",
      "source": [
        "https://drive.google.com/file/d/1yBJctOryM9ogVYCt3w7w95ovKuoNWWVW/view?usp=share_link"
      ],
      "metadata": {
        "id": "rBCwxs-cjyiW"
      }
    },
    {
      "cell_type": "markdown",
      "source": [
        "Загружаем данные"
      ],
      "metadata": {
        "id": "jIQjbNMHjyiX"
      }
    },
    {
      "cell_type": "code",
      "source": [
        "! gdown --id 1yBJctOryM9ogVYCt3w7w95ovKuoNWWVW"
      ],
      "metadata": {
        "colab": {
          "base_uri": "https://localhost:8080/"
        },
        "outputId": "b624c14e-08da-47c4-de28-4da07b2441fc",
        "id": "Ump5UHpYjyiX"
      },
      "execution_count": 48,
      "outputs": [
        {
          "output_type": "stream",
          "name": "stdout",
          "text": [
            "/usr/local/lib/python3.10/dist-packages/gdown/cli.py:121: FutureWarning: Option `--id` was deprecated in version 4.3.1 and will be removed in 5.0. You don't need to pass it anymore to use a file ID.\n",
            "  warnings.warn(\n",
            "Downloading...\n",
            "From: https://drive.google.com/uc?id=1yBJctOryM9ogVYCt3w7w95ovKuoNWWVW\n",
            "To: /content/Endocrine Disruption_NR-AR-LBD.csv\n",
            "100% 948k/948k [00:00<00:00, 130MB/s]\n"
          ]
        }
      ]
    },
    {
      "cell_type": "markdown",
      "source": [
        "Загружаем необходимую библиотеку"
      ],
      "metadata": {
        "id": "uTFcbUu3jyiZ"
      }
    },
    {
      "cell_type": "code",
      "source": [
        "import pandas as pd"
      ],
      "metadata": {
        "id": "Y5aYKZ_Jjyia"
      },
      "execution_count": null,
      "outputs": []
    },
    {
      "cell_type": "markdown",
      "source": [
        "Откроем загруженный датасет"
      ],
      "metadata": {
        "id": "ByAUAFXijyib"
      }
    },
    {
      "cell_type": "code",
      "source": [
        "data = pd.read_csv('/content/Endocrine Disruption_NR-AR-LBD.csv')\n",
        "data.head()"
      ],
      "metadata": {
        "colab": {
          "base_uri": "https://localhost:8080/",
          "height": 441
        },
        "outputId": "2cc5ac33-dc26-4ff3-e897-b1b5fb679515",
        "id": "PthUh64Djyib"
      },
      "execution_count": null,
      "outputs": [
        {
          "output_type": "execute_result",
          "data": {
            "text/plain": [
              "     TAID            Name                                         IUPAC Name  \\\n",
              "0   TOX-7      Bortezomib  [(1R)-3-methyl-1-[[(2S)-3-phenyl-2-(pyrazine-2...   \n",
              "1  TOX-12     L-ascorbate  (2R)-2-[(1S)-1,2-dihydroxyethyl]-3-hydroxy-5-o...   \n",
              "2  TOX-14       lactulose  (2S,3R,4S,5R,6R)-2-[(2R,3S,4S,5R)-4,5-dihydrox...   \n",
              "3  TOX-16         sucrose  (2R,3R,4S,5S,6R)-2-[(2S,3S,4S,5R)-3,4-dihydrox...   \n",
              "4  TOX-17  gluconolactone  (3R,4S,5S,6R)-3,4,5-trihydroxy-6-(hydroxymethy...   \n",
              "\n",
              "   PubChem CID                                   Canonical SMILES  \\\n",
              "0     387447.0  CC(C)C[C@H](NC(=O)[C@H](Cc1ccccc1)NC(=O)c1cncc...   \n",
              "1   54679076.0                 O=C1O[C@H]([C@@H](O)CO)C([O-])=C1O   \n",
              "2      11333.0  OC[C@H]1O[C@](O)(CO)[C@@H](O)[C@@H]1O[C@@H]1O[...   \n",
              "3       5988.0  OC[C@H]1O[C@H](O[C@]2(CO)O[C@H](CO)[C@@H](O)[C...   \n",
              "4       7027.0             O=C1O[C@H](CO)[C@@H](O)[C@H](O)[C@H]1O   \n",
              "\n",
              "                      InChIKey  Toxicity Value  \n",
              "0  GXJABQQUPOEUTA-RDJZCZTQSA-N               0  \n",
              "1  CIWBSHSKHKDKBQ-JLAZNSOCSA-M               0  \n",
              "2  JCQLYHFGKNRPGE-FCVZTGTOSA-N               0  \n",
              "3  CZMRCDWAGMRECN-UGDNZRGBSA-N               0  \n",
              "4  PHOQVHQSTUBQQK-SQOUGZDYSA-N               0  "
            ],
            "text/html": [
              "\n",
              "  <div id=\"df-d1ebbe53-7364-43ce-a8f2-6f20c4fc08ef\">\n",
              "    <div class=\"colab-df-container\">\n",
              "      <div>\n",
              "<style scoped>\n",
              "    .dataframe tbody tr th:only-of-type {\n",
              "        vertical-align: middle;\n",
              "    }\n",
              "\n",
              "    .dataframe tbody tr th {\n",
              "        vertical-align: top;\n",
              "    }\n",
              "\n",
              "    .dataframe thead th {\n",
              "        text-align: right;\n",
              "    }\n",
              "</style>\n",
              "<table border=\"1\" class=\"dataframe\">\n",
              "  <thead>\n",
              "    <tr style=\"text-align: right;\">\n",
              "      <th></th>\n",
              "      <th>TAID</th>\n",
              "      <th>Name</th>\n",
              "      <th>IUPAC Name</th>\n",
              "      <th>PubChem CID</th>\n",
              "      <th>Canonical SMILES</th>\n",
              "      <th>InChIKey</th>\n",
              "      <th>Toxicity Value</th>\n",
              "    </tr>\n",
              "  </thead>\n",
              "  <tbody>\n",
              "    <tr>\n",
              "      <th>0</th>\n",
              "      <td>TOX-7</td>\n",
              "      <td>Bortezomib</td>\n",
              "      <td>[(1R)-3-methyl-1-[[(2S)-3-phenyl-2-(pyrazine-2...</td>\n",
              "      <td>387447.0</td>\n",
              "      <td>CC(C)C[C@H](NC(=O)[C@H](Cc1ccccc1)NC(=O)c1cncc...</td>\n",
              "      <td>GXJABQQUPOEUTA-RDJZCZTQSA-N</td>\n",
              "      <td>0</td>\n",
              "    </tr>\n",
              "    <tr>\n",
              "      <th>1</th>\n",
              "      <td>TOX-12</td>\n",
              "      <td>L-ascorbate</td>\n",
              "      <td>(2R)-2-[(1S)-1,2-dihydroxyethyl]-3-hydroxy-5-o...</td>\n",
              "      <td>54679076.0</td>\n",
              "      <td>O=C1O[C@H]([C@@H](O)CO)C([O-])=C1O</td>\n",
              "      <td>CIWBSHSKHKDKBQ-JLAZNSOCSA-M</td>\n",
              "      <td>0</td>\n",
              "    </tr>\n",
              "    <tr>\n",
              "      <th>2</th>\n",
              "      <td>TOX-14</td>\n",
              "      <td>lactulose</td>\n",
              "      <td>(2S,3R,4S,5R,6R)-2-[(2R,3S,4S,5R)-4,5-dihydrox...</td>\n",
              "      <td>11333.0</td>\n",
              "      <td>OC[C@H]1O[C@](O)(CO)[C@@H](O)[C@@H]1O[C@@H]1O[...</td>\n",
              "      <td>JCQLYHFGKNRPGE-FCVZTGTOSA-N</td>\n",
              "      <td>0</td>\n",
              "    </tr>\n",
              "    <tr>\n",
              "      <th>3</th>\n",
              "      <td>TOX-16</td>\n",
              "      <td>sucrose</td>\n",
              "      <td>(2R,3R,4S,5S,6R)-2-[(2S,3S,4S,5R)-3,4-dihydrox...</td>\n",
              "      <td>5988.0</td>\n",
              "      <td>OC[C@H]1O[C@H](O[C@]2(CO)O[C@H](CO)[C@@H](O)[C...</td>\n",
              "      <td>CZMRCDWAGMRECN-UGDNZRGBSA-N</td>\n",
              "      <td>0</td>\n",
              "    </tr>\n",
              "    <tr>\n",
              "      <th>4</th>\n",
              "      <td>TOX-17</td>\n",
              "      <td>gluconolactone</td>\n",
              "      <td>(3R,4S,5S,6R)-3,4,5-trihydroxy-6-(hydroxymethy...</td>\n",
              "      <td>7027.0</td>\n",
              "      <td>O=C1O[C@H](CO)[C@@H](O)[C@H](O)[C@H]1O</td>\n",
              "      <td>PHOQVHQSTUBQQK-SQOUGZDYSA-N</td>\n",
              "      <td>0</td>\n",
              "    </tr>\n",
              "  </tbody>\n",
              "</table>\n",
              "</div>\n",
              "      <button class=\"colab-df-convert\" onclick=\"convertToInteractive('df-d1ebbe53-7364-43ce-a8f2-6f20c4fc08ef')\"\n",
              "              title=\"Convert this dataframe to an interactive table.\"\n",
              "              style=\"display:none;\">\n",
              "        \n",
              "  <svg xmlns=\"http://www.w3.org/2000/svg\" height=\"24px\"viewBox=\"0 0 24 24\"\n",
              "       width=\"24px\">\n",
              "    <path d=\"M0 0h24v24H0V0z\" fill=\"none\"/>\n",
              "    <path d=\"M18.56 5.44l.94 2.06.94-2.06 2.06-.94-2.06-.94-.94-2.06-.94 2.06-2.06.94zm-11 1L8.5 8.5l.94-2.06 2.06-.94-2.06-.94L8.5 2.5l-.94 2.06-2.06.94zm10 10l.94 2.06.94-2.06 2.06-.94-2.06-.94-.94-2.06-.94 2.06-2.06.94z\"/><path d=\"M17.41 7.96l-1.37-1.37c-.4-.4-.92-.59-1.43-.59-.52 0-1.04.2-1.43.59L10.3 9.45l-7.72 7.72c-.78.78-.78 2.05 0 2.83L4 21.41c.39.39.9.59 1.41.59.51 0 1.02-.2 1.41-.59l7.78-7.78 2.81-2.81c.8-.78.8-2.07 0-2.86zM5.41 20L4 18.59l7.72-7.72 1.47 1.35L5.41 20z\"/>\n",
              "  </svg>\n",
              "      </button>\n",
              "      \n",
              "  <style>\n",
              "    .colab-df-container {\n",
              "      display:flex;\n",
              "      flex-wrap:wrap;\n",
              "      gap: 12px;\n",
              "    }\n",
              "\n",
              "    .colab-df-convert {\n",
              "      background-color: #E8F0FE;\n",
              "      border: none;\n",
              "      border-radius: 50%;\n",
              "      cursor: pointer;\n",
              "      display: none;\n",
              "      fill: #1967D2;\n",
              "      height: 32px;\n",
              "      padding: 0 0 0 0;\n",
              "      width: 32px;\n",
              "    }\n",
              "\n",
              "    .colab-df-convert:hover {\n",
              "      background-color: #E2EBFA;\n",
              "      box-shadow: 0px 1px 2px rgba(60, 64, 67, 0.3), 0px 1px 3px 1px rgba(60, 64, 67, 0.15);\n",
              "      fill: #174EA6;\n",
              "    }\n",
              "\n",
              "    [theme=dark] .colab-df-convert {\n",
              "      background-color: #3B4455;\n",
              "      fill: #D2E3FC;\n",
              "    }\n",
              "\n",
              "    [theme=dark] .colab-df-convert:hover {\n",
              "      background-color: #434B5C;\n",
              "      box-shadow: 0px 1px 3px 1px rgba(0, 0, 0, 0.15);\n",
              "      filter: drop-shadow(0px 1px 2px rgba(0, 0, 0, 0.3));\n",
              "      fill: #FFFFFF;\n",
              "    }\n",
              "  </style>\n",
              "\n",
              "      <script>\n",
              "        const buttonEl =\n",
              "          document.querySelector('#df-d1ebbe53-7364-43ce-a8f2-6f20c4fc08ef button.colab-df-convert');\n",
              "        buttonEl.style.display =\n",
              "          google.colab.kernel.accessAllowed ? 'block' : 'none';\n",
              "\n",
              "        async function convertToInteractive(key) {\n",
              "          const element = document.querySelector('#df-d1ebbe53-7364-43ce-a8f2-6f20c4fc08ef');\n",
              "          const dataTable =\n",
              "            await google.colab.kernel.invokeFunction('convertToInteractive',\n",
              "                                                     [key], {});\n",
              "          if (!dataTable) return;\n",
              "\n",
              "          const docLinkHtml = 'Like what you see? Visit the ' +\n",
              "            '<a target=\"_blank\" href=https://colab.research.google.com/notebooks/data_table.ipynb>data table notebook</a>'\n",
              "            + ' to learn more about interactive tables.';\n",
              "          element.innerHTML = '';\n",
              "          dataTable['output_type'] = 'display_data';\n",
              "          await google.colab.output.renderOutput(dataTable, element);\n",
              "          const docLink = document.createElement('div');\n",
              "          docLink.innerHTML = docLinkHtml;\n",
              "          element.appendChild(docLink);\n",
              "        }\n",
              "      </script>\n",
              "    </div>\n",
              "  </div>\n",
              "  "
            ]
          },
          "metadata": {},
          "execution_count": 8
        }
      ]
    },
    {
      "cell_type": "markdown",
      "source": [
        "Определим, есть ли среди данных нулевые значения. Если такие присутсвуют, их необходимо удалить до обучения"
      ],
      "metadata": {
        "id": "DdnFVM3rjyic"
      }
    },
    {
      "cell_type": "code",
      "source": [
        "data['Canonical SMILES'].isna().sum()"
      ],
      "metadata": {
        "colab": {
          "base_uri": "https://localhost:8080/"
        },
        "outputId": "4e61a085-4dbd-484c-fa28-d3f352ed1825",
        "id": "mJg20dTNjyid"
      },
      "execution_count": null,
      "outputs": [
        {
          "output_type": "execute_result",
          "data": {
            "text/plain": [
              "133"
            ]
          },
          "metadata": {},
          "execution_count": 9
        }
      ]
    },
    {
      "cell_type": "markdown",
      "source": [
        "Из базы данных нас в первую очередь интересует колонка 'SMILES'. С помощью метода Chem.MolFromSmiles переведем смайлзы в объекты rdkit"
      ],
      "metadata": {
        "id": "jZgFqvH2jyid"
      }
    },
    {
      "cell_type": "code",
      "source": [
        "mol_dataset = data[data['Canonical SMILES'].notna()]['Canonical SMILES'].apply(lambda x: Chem.MolFromSmiles(x))\n",
        "mol_dataset.head()\n"
      ],
      "metadata": {
        "colab": {
          "base_uri": "https://localhost:8080/"
        },
        "outputId": "e615f0b8-7aa0-4b4f-8508-493589e6e250",
        "id": "u6mcEHljjyie"
      },
      "execution_count": null,
      "outputs": [
        {
          "output_type": "stream",
          "name": "stderr",
          "text": [
            "[09:54:04] WARNING: not removing hydrogen atom without neighbors\n"
          ]
        },
        {
          "output_type": "execute_result",
          "data": {
            "text/plain": [
              "0    <rdkit.Chem.rdchem.Mol object at 0x7fed5ffe49e0>\n",
              "1    <rdkit.Chem.rdchem.Mol object at 0x7fed5ffe4a50>\n",
              "2    <rdkit.Chem.rdchem.Mol object at 0x7fed5ffe4ac0>\n",
              "3    <rdkit.Chem.rdchem.Mol object at 0x7fed5ffe4b30>\n",
              "4    <rdkit.Chem.rdchem.Mol object at 0x7fed5ffe4ba0>\n",
              "Name: Canonical SMILES, dtype: object"
            ]
          },
          "metadata": {},
          "execution_count": 14
        }
      ]
    },
    {
      "cell_type": "markdown",
      "source": [
        "Переведем молекулы в векторную форму. В SMILES содержится описание структуры молекулы. Фингерпринт — вектор чисел, описывающий структурный состав молекулы. Моргановский фингерпринт — это универсальный способ представления молекул в виде бинарного вектора, где после конкатенации векторов из свойств атомов применяется хэш-функция. Переведем смайлзы в моргановский фингерпринт."
      ],
      "metadata": {
        "id": "NcIPrnFOjyie"
      }
    },
    {
      "cell_type": "code",
      "source": [
        "X = mol_dataset.apply(lambda x: np.array(list(AllChem.GetMorganFingerprintAsBitVect(x, radius=2, nBits=512).ToBitString()), dtype=int))\n",
        "X"
      ],
      "metadata": {
        "colab": {
          "base_uri": "https://localhost:8080/"
        },
        "id": "8jwnF81fjyif",
        "outputId": "20a252f2-4088-4ba6-88bb-0c7c56f24428"
      },
      "execution_count": null,
      "outputs": [
        {
          "output_type": "execute_result",
          "data": {
            "text/plain": [
              "0       [0, 1, 0, 0, 0, 0, 0, 0, 0, 0, 0, 0, 0, 0, 0, ...\n",
              "1       [0, 1, 0, 0, 1, 0, 0, 0, 0, 0, 0, 0, 0, 0, 0, ...\n",
              "2       [0, 0, 0, 0, 0, 0, 0, 0, 0, 0, 0, 0, 0, 1, 0, ...\n",
              "3       [1, 0, 0, 0, 0, 0, 0, 0, 0, 0, 0, 0, 0, 1, 0, ...\n",
              "4       [0, 0, 0, 0, 0, 0, 0, 0, 0, 0, 0, 1, 0, 0, 0, ...\n",
              "                              ...                        \n",
              "6624    [0, 0, 0, 0, 0, 1, 0, 0, 0, 0, 0, 0, 0, 0, 0, ...\n",
              "6625    [0, 0, 0, 0, 0, 0, 0, 0, 0, 0, 0, 0, 0, 0, 0, ...\n",
              "6626    [0, 0, 0, 0, 0, 0, 0, 0, 0, 0, 0, 0, 0, 0, 0, ...\n",
              "6627    [0, 1, 0, 0, 0, 0, 0, 0, 0, 0, 0, 0, 0, 0, 0, ...\n",
              "6628    [0, 0, 0, 0, 0, 0, 0, 0, 0, 0, 0, 0, 0, 0, 0, ...\n",
              "Name: Canonical SMILES, Length: 6496, dtype: object"
            ]
          },
          "metadata": {},
          "execution_count": 15
        }
      ]
    },
    {
      "cell_type": "markdown",
      "source": [
        "Изменим форму датасета, так чтобы каждому элементу вектора сответствовала колонка в датасете."
      ],
      "metadata": {
        "id": "8AnwDgr8jyig"
      }
    },
    {
      "cell_type": "code",
      "source": [
        "X = pd.DataFrame(X.to_list(), columns=list(range(len(X[0]))))\n",
        "X"
      ],
      "metadata": {
        "colab": {
          "base_uri": "https://localhost:8080/",
          "height": 423
        },
        "id": "2mvniFR4jyig",
        "outputId": "acad1636-1de1-436d-c861-59f06b801141"
      },
      "execution_count": null,
      "outputs": [
        {
          "output_type": "execute_result",
          "data": {
            "text/plain": [
              "      0    1    2    3    4    5    6    7    8    9    ...  502  503  504  \\\n",
              "0       0    1    0    0    0    0    0    0    0    0  ...    0    0    0   \n",
              "1       0    1    0    0    1    0    0    0    0    0  ...    0    0    0   \n",
              "2       0    0    0    0    0    0    0    0    0    0  ...    0    0    0   \n",
              "3       1    0    0    0    0    0    0    0    0    0  ...    1    0    0   \n",
              "4       0    0    0    0    0    0    0    0    0    0  ...    0    0    0   \n",
              "...   ...  ...  ...  ...  ...  ...  ...  ...  ...  ...  ...  ...  ...  ...   \n",
              "6491    0    0    0    0    0    1    0    0    0    0  ...    0    0    0   \n",
              "6492    0    0    0    0    0    0    0    0    0    0  ...    0    0    0   \n",
              "6493    0    0    0    0    0    0    0    0    0    0  ...    0    0    0   \n",
              "6494    0    1    0    0    0    0    0    0    0    0  ...    0    0    0   \n",
              "6495    0    0    0    0    0    0    0    0    0    0  ...    0    0    0   \n",
              "\n",
              "      505  506  507  508  509  510  511  \n",
              "0       0    0    0    0    0    0    1  \n",
              "1       0    0    1    0    0    0    0  \n",
              "2       0    0    1    0    0    0    0  \n",
              "3       0    0    1    0    0    0    0  \n",
              "4       0    0    1    0    0    0    0  \n",
              "...   ...  ...  ...  ...  ...  ...  ...  \n",
              "6491    0    0    1    0    0    0    0  \n",
              "6492    0    0    0    0    0    0    0  \n",
              "6493    0    0    0    0    0    0    0  \n",
              "6494    0    0    0    0    0    0    0  \n",
              "6495    0    0    0    0    0    0    0  \n",
              "\n",
              "[6496 rows x 512 columns]"
            ],
            "text/html": [
              "\n",
              "  <div id=\"df-8a649cb9-81d4-4c76-9642-a53fa3ba3934\">\n",
              "    <div class=\"colab-df-container\">\n",
              "      <div>\n",
              "<style scoped>\n",
              "    .dataframe tbody tr th:only-of-type {\n",
              "        vertical-align: middle;\n",
              "    }\n",
              "\n",
              "    .dataframe tbody tr th {\n",
              "        vertical-align: top;\n",
              "    }\n",
              "\n",
              "    .dataframe thead th {\n",
              "        text-align: right;\n",
              "    }\n",
              "</style>\n",
              "<table border=\"1\" class=\"dataframe\">\n",
              "  <thead>\n",
              "    <tr style=\"text-align: right;\">\n",
              "      <th></th>\n",
              "      <th>0</th>\n",
              "      <th>1</th>\n",
              "      <th>2</th>\n",
              "      <th>3</th>\n",
              "      <th>4</th>\n",
              "      <th>5</th>\n",
              "      <th>6</th>\n",
              "      <th>7</th>\n",
              "      <th>8</th>\n",
              "      <th>9</th>\n",
              "      <th>...</th>\n",
              "      <th>502</th>\n",
              "      <th>503</th>\n",
              "      <th>504</th>\n",
              "      <th>505</th>\n",
              "      <th>506</th>\n",
              "      <th>507</th>\n",
              "      <th>508</th>\n",
              "      <th>509</th>\n",
              "      <th>510</th>\n",
              "      <th>511</th>\n",
              "    </tr>\n",
              "  </thead>\n",
              "  <tbody>\n",
              "    <tr>\n",
              "      <th>0</th>\n",
              "      <td>0</td>\n",
              "      <td>1</td>\n",
              "      <td>0</td>\n",
              "      <td>0</td>\n",
              "      <td>0</td>\n",
              "      <td>0</td>\n",
              "      <td>0</td>\n",
              "      <td>0</td>\n",
              "      <td>0</td>\n",
              "      <td>0</td>\n",
              "      <td>...</td>\n",
              "      <td>0</td>\n",
              "      <td>0</td>\n",
              "      <td>0</td>\n",
              "      <td>0</td>\n",
              "      <td>0</td>\n",
              "      <td>0</td>\n",
              "      <td>0</td>\n",
              "      <td>0</td>\n",
              "      <td>0</td>\n",
              "      <td>1</td>\n",
              "    </tr>\n",
              "    <tr>\n",
              "      <th>1</th>\n",
              "      <td>0</td>\n",
              "      <td>1</td>\n",
              "      <td>0</td>\n",
              "      <td>0</td>\n",
              "      <td>1</td>\n",
              "      <td>0</td>\n",
              "      <td>0</td>\n",
              "      <td>0</td>\n",
              "      <td>0</td>\n",
              "      <td>0</td>\n",
              "      <td>...</td>\n",
              "      <td>0</td>\n",
              "      <td>0</td>\n",
              "      <td>0</td>\n",
              "      <td>0</td>\n",
              "      <td>0</td>\n",
              "      <td>1</td>\n",
              "      <td>0</td>\n",
              "      <td>0</td>\n",
              "      <td>0</td>\n",
              "      <td>0</td>\n",
              "    </tr>\n",
              "    <tr>\n",
              "      <th>2</th>\n",
              "      <td>0</td>\n",
              "      <td>0</td>\n",
              "      <td>0</td>\n",
              "      <td>0</td>\n",
              "      <td>0</td>\n",
              "      <td>0</td>\n",
              "      <td>0</td>\n",
              "      <td>0</td>\n",
              "      <td>0</td>\n",
              "      <td>0</td>\n",
              "      <td>...</td>\n",
              "      <td>0</td>\n",
              "      <td>0</td>\n",
              "      <td>0</td>\n",
              "      <td>0</td>\n",
              "      <td>0</td>\n",
              "      <td>1</td>\n",
              "      <td>0</td>\n",
              "      <td>0</td>\n",
              "      <td>0</td>\n",
              "      <td>0</td>\n",
              "    </tr>\n",
              "    <tr>\n",
              "      <th>3</th>\n",
              "      <td>1</td>\n",
              "      <td>0</td>\n",
              "      <td>0</td>\n",
              "      <td>0</td>\n",
              "      <td>0</td>\n",
              "      <td>0</td>\n",
              "      <td>0</td>\n",
              "      <td>0</td>\n",
              "      <td>0</td>\n",
              "      <td>0</td>\n",
              "      <td>...</td>\n",
              "      <td>1</td>\n",
              "      <td>0</td>\n",
              "      <td>0</td>\n",
              "      <td>0</td>\n",
              "      <td>0</td>\n",
              "      <td>1</td>\n",
              "      <td>0</td>\n",
              "      <td>0</td>\n",
              "      <td>0</td>\n",
              "      <td>0</td>\n",
              "    </tr>\n",
              "    <tr>\n",
              "      <th>4</th>\n",
              "      <td>0</td>\n",
              "      <td>0</td>\n",
              "      <td>0</td>\n",
              "      <td>0</td>\n",
              "      <td>0</td>\n",
              "      <td>0</td>\n",
              "      <td>0</td>\n",
              "      <td>0</td>\n",
              "      <td>0</td>\n",
              "      <td>0</td>\n",
              "      <td>...</td>\n",
              "      <td>0</td>\n",
              "      <td>0</td>\n",
              "      <td>0</td>\n",
              "      <td>0</td>\n",
              "      <td>0</td>\n",
              "      <td>1</td>\n",
              "      <td>0</td>\n",
              "      <td>0</td>\n",
              "      <td>0</td>\n",
              "      <td>0</td>\n",
              "    </tr>\n",
              "    <tr>\n",
              "      <th>...</th>\n",
              "      <td>...</td>\n",
              "      <td>...</td>\n",
              "      <td>...</td>\n",
              "      <td>...</td>\n",
              "      <td>...</td>\n",
              "      <td>...</td>\n",
              "      <td>...</td>\n",
              "      <td>...</td>\n",
              "      <td>...</td>\n",
              "      <td>...</td>\n",
              "      <td>...</td>\n",
              "      <td>...</td>\n",
              "      <td>...</td>\n",
              "      <td>...</td>\n",
              "      <td>...</td>\n",
              "      <td>...</td>\n",
              "      <td>...</td>\n",
              "      <td>...</td>\n",
              "      <td>...</td>\n",
              "      <td>...</td>\n",
              "      <td>...</td>\n",
              "    </tr>\n",
              "    <tr>\n",
              "      <th>6491</th>\n",
              "      <td>0</td>\n",
              "      <td>0</td>\n",
              "      <td>0</td>\n",
              "      <td>0</td>\n",
              "      <td>0</td>\n",
              "      <td>1</td>\n",
              "      <td>0</td>\n",
              "      <td>0</td>\n",
              "      <td>0</td>\n",
              "      <td>0</td>\n",
              "      <td>...</td>\n",
              "      <td>0</td>\n",
              "      <td>0</td>\n",
              "      <td>0</td>\n",
              "      <td>0</td>\n",
              "      <td>0</td>\n",
              "      <td>1</td>\n",
              "      <td>0</td>\n",
              "      <td>0</td>\n",
              "      <td>0</td>\n",
              "      <td>0</td>\n",
              "    </tr>\n",
              "    <tr>\n",
              "      <th>6492</th>\n",
              "      <td>0</td>\n",
              "      <td>0</td>\n",
              "      <td>0</td>\n",
              "      <td>0</td>\n",
              "      <td>0</td>\n",
              "      <td>0</td>\n",
              "      <td>0</td>\n",
              "      <td>0</td>\n",
              "      <td>0</td>\n",
              "      <td>0</td>\n",
              "      <td>...</td>\n",
              "      <td>0</td>\n",
              "      <td>0</td>\n",
              "      <td>0</td>\n",
              "      <td>0</td>\n",
              "      <td>0</td>\n",
              "      <td>0</td>\n",
              "      <td>0</td>\n",
              "      <td>0</td>\n",
              "      <td>0</td>\n",
              "      <td>0</td>\n",
              "    </tr>\n",
              "    <tr>\n",
              "      <th>6493</th>\n",
              "      <td>0</td>\n",
              "      <td>0</td>\n",
              "      <td>0</td>\n",
              "      <td>0</td>\n",
              "      <td>0</td>\n",
              "      <td>0</td>\n",
              "      <td>0</td>\n",
              "      <td>0</td>\n",
              "      <td>0</td>\n",
              "      <td>0</td>\n",
              "      <td>...</td>\n",
              "      <td>0</td>\n",
              "      <td>0</td>\n",
              "      <td>0</td>\n",
              "      <td>0</td>\n",
              "      <td>0</td>\n",
              "      <td>0</td>\n",
              "      <td>0</td>\n",
              "      <td>0</td>\n",
              "      <td>0</td>\n",
              "      <td>0</td>\n",
              "    </tr>\n",
              "    <tr>\n",
              "      <th>6494</th>\n",
              "      <td>0</td>\n",
              "      <td>1</td>\n",
              "      <td>0</td>\n",
              "      <td>0</td>\n",
              "      <td>0</td>\n",
              "      <td>0</td>\n",
              "      <td>0</td>\n",
              "      <td>0</td>\n",
              "      <td>0</td>\n",
              "      <td>0</td>\n",
              "      <td>...</td>\n",
              "      <td>0</td>\n",
              "      <td>0</td>\n",
              "      <td>0</td>\n",
              "      <td>0</td>\n",
              "      <td>0</td>\n",
              "      <td>0</td>\n",
              "      <td>0</td>\n",
              "      <td>0</td>\n",
              "      <td>0</td>\n",
              "      <td>0</td>\n",
              "    </tr>\n",
              "    <tr>\n",
              "      <th>6495</th>\n",
              "      <td>0</td>\n",
              "      <td>0</td>\n",
              "      <td>0</td>\n",
              "      <td>0</td>\n",
              "      <td>0</td>\n",
              "      <td>0</td>\n",
              "      <td>0</td>\n",
              "      <td>0</td>\n",
              "      <td>0</td>\n",
              "      <td>0</td>\n",
              "      <td>...</td>\n",
              "      <td>0</td>\n",
              "      <td>0</td>\n",
              "      <td>0</td>\n",
              "      <td>0</td>\n",
              "      <td>0</td>\n",
              "      <td>0</td>\n",
              "      <td>0</td>\n",
              "      <td>0</td>\n",
              "      <td>0</td>\n",
              "      <td>0</td>\n",
              "    </tr>\n",
              "  </tbody>\n",
              "</table>\n",
              "<p>6496 rows × 512 columns</p>\n",
              "</div>\n",
              "      <button class=\"colab-df-convert\" onclick=\"convertToInteractive('df-8a649cb9-81d4-4c76-9642-a53fa3ba3934')\"\n",
              "              title=\"Convert this dataframe to an interactive table.\"\n",
              "              style=\"display:none;\">\n",
              "        \n",
              "  <svg xmlns=\"http://www.w3.org/2000/svg\" height=\"24px\"viewBox=\"0 0 24 24\"\n",
              "       width=\"24px\">\n",
              "    <path d=\"M0 0h24v24H0V0z\" fill=\"none\"/>\n",
              "    <path d=\"M18.56 5.44l.94 2.06.94-2.06 2.06-.94-2.06-.94-.94-2.06-.94 2.06-2.06.94zm-11 1L8.5 8.5l.94-2.06 2.06-.94-2.06-.94L8.5 2.5l-.94 2.06-2.06.94zm10 10l.94 2.06.94-2.06 2.06-.94-2.06-.94-.94-2.06-.94 2.06-2.06.94z\"/><path d=\"M17.41 7.96l-1.37-1.37c-.4-.4-.92-.59-1.43-.59-.52 0-1.04.2-1.43.59L10.3 9.45l-7.72 7.72c-.78.78-.78 2.05 0 2.83L4 21.41c.39.39.9.59 1.41.59.51 0 1.02-.2 1.41-.59l7.78-7.78 2.81-2.81c.8-.78.8-2.07 0-2.86zM5.41 20L4 18.59l7.72-7.72 1.47 1.35L5.41 20z\"/>\n",
              "  </svg>\n",
              "      </button>\n",
              "      \n",
              "  <style>\n",
              "    .colab-df-container {\n",
              "      display:flex;\n",
              "      flex-wrap:wrap;\n",
              "      gap: 12px;\n",
              "    }\n",
              "\n",
              "    .colab-df-convert {\n",
              "      background-color: #E8F0FE;\n",
              "      border: none;\n",
              "      border-radius: 50%;\n",
              "      cursor: pointer;\n",
              "      display: none;\n",
              "      fill: #1967D2;\n",
              "      height: 32px;\n",
              "      padding: 0 0 0 0;\n",
              "      width: 32px;\n",
              "    }\n",
              "\n",
              "    .colab-df-convert:hover {\n",
              "      background-color: #E2EBFA;\n",
              "      box-shadow: 0px 1px 2px rgba(60, 64, 67, 0.3), 0px 1px 3px 1px rgba(60, 64, 67, 0.15);\n",
              "      fill: #174EA6;\n",
              "    }\n",
              "\n",
              "    [theme=dark] .colab-df-convert {\n",
              "      background-color: #3B4455;\n",
              "      fill: #D2E3FC;\n",
              "    }\n",
              "\n",
              "    [theme=dark] .colab-df-convert:hover {\n",
              "      background-color: #434B5C;\n",
              "      box-shadow: 0px 1px 3px 1px rgba(0, 0, 0, 0.15);\n",
              "      filter: drop-shadow(0px 1px 2px rgba(0, 0, 0, 0.3));\n",
              "      fill: #FFFFFF;\n",
              "    }\n",
              "  </style>\n",
              "\n",
              "      <script>\n",
              "        const buttonEl =\n",
              "          document.querySelector('#df-8a649cb9-81d4-4c76-9642-a53fa3ba3934 button.colab-df-convert');\n",
              "        buttonEl.style.display =\n",
              "          google.colab.kernel.accessAllowed ? 'block' : 'none';\n",
              "\n",
              "        async function convertToInteractive(key) {\n",
              "          const element = document.querySelector('#df-8a649cb9-81d4-4c76-9642-a53fa3ba3934');\n",
              "          const dataTable =\n",
              "            await google.colab.kernel.invokeFunction('convertToInteractive',\n",
              "                                                     [key], {});\n",
              "          if (!dataTable) return;\n",
              "\n",
              "          const docLinkHtml = 'Like what you see? Visit the ' +\n",
              "            '<a target=\"_blank\" href=https://colab.research.google.com/notebooks/data_table.ipynb>data table notebook</a>'\n",
              "            + ' to learn more about interactive tables.';\n",
              "          element.innerHTML = '';\n",
              "          dataTable['output_type'] = 'display_data';\n",
              "          await google.colab.output.renderOutput(dataTable, element);\n",
              "          const docLink = document.createElement('div');\n",
              "          docLink.innerHTML = docLinkHtml;\n",
              "          element.appendChild(docLink);\n",
              "        }\n",
              "      </script>\n",
              "    </div>\n",
              "  </div>\n",
              "  "
            ]
          },
          "metadata": {},
          "execution_count": 16
        }
      ]
    },
    {
      "cell_type": "code",
      "source": [
        "y = data[data['Canonical SMILES'].notna()]['Toxicity Value']\n",
        "y.head()"
      ],
      "metadata": {
        "colab": {
          "base_uri": "https://localhost:8080/"
        },
        "id": "UDcPC4ITjyih",
        "outputId": "aacc2196-a1f1-4c8c-a35f-0fdeeed1a5c7"
      },
      "execution_count": null,
      "outputs": [
        {
          "output_type": "execute_result",
          "data": {
            "text/plain": [
              "0    0\n",
              "1    0\n",
              "2    0\n",
              "3    0\n",
              "4    0\n",
              "Name: Toxicity Value, dtype: int64"
            ]
          },
          "metadata": {},
          "execution_count": 17
        }
      ]
    },
    {
      "cell_type": "markdown",
      "source": [
        "Загрузим необходимые библиотеки, разделим базу данных на базу для обучения и базу для предсказания"
      ],
      "metadata": {
        "id": "-TLzPib-jyii"
      }
    },
    {
      "cell_type": "code",
      "source": [
        "from sklearn.model_selection import train_test_split\n",
        "from sklearn.metrics import accuracy_score\n",
        "X_train, X_val, y_train, y_val = train_test_split(X, y, test_size=0.2, random_state=42)\n"
      ],
      "metadata": {
        "id": "mHbpk0GUjyij"
      },
      "execution_count": null,
      "outputs": []
    },
    {
      "cell_type": "markdown",
      "source": [
        "Реализуем модель дерево решений"
      ],
      "metadata": {
        "id": "PdCxl9jXjyij"
      }
    },
    {
      "cell_type": "code",
      "source": [
        "from sklearn import tree\n",
        "clf_tree = tree.DecisionTreeClassifier()\n",
        "clf_tree.fit(X_train, y_train)\n",
        "y_pred_tree = clf_tree.predict(X_val)\n",
        "print(accuracy_score(y_val, y_pred_tree))"
      ],
      "metadata": {
        "colab": {
          "base_uri": "https://localhost:8080/"
        },
        "id": "veXM_f0Ljyik",
        "outputId": "ec91c2a4-d966-478b-9d9a-b6098527ae75"
      },
      "execution_count": null,
      "outputs": [
        {
          "output_type": "stream",
          "name": "stdout",
          "text": [
            "0.9538461538461539\n"
          ]
        }
      ]
    },
    {
      "cell_type": "markdown",
      "source": [
        "Реализуем модель рандомный лес"
      ],
      "metadata": {
        "id": "aw-Gp4fnjyik"
      }
    },
    {
      "cell_type": "code",
      "source": [
        "from sklearn.ensemble import RandomForestClassifier\n",
        "clf_rf = RandomForestClassifier()\n",
        "clf_rf.fit(X_train, y_train)\n",
        "y_pred_rf = clf_rf.predict(X_val)\n",
        "print(accuracy_score(y_val, y_pred_rf))\n"
      ],
      "metadata": {
        "colab": {
          "base_uri": "https://localhost:8080/"
        },
        "id": "_NKp8KL6jyil",
        "outputId": "402fde6c-61a0-4e66-a170-0e5380b5c2ad"
      },
      "execution_count": null,
      "outputs": [
        {
          "output_type": "stream",
          "name": "stdout",
          "text": [
            "0.9784615384615385\n"
          ]
        }
      ]
    },
    {
      "cell_type": "markdown",
      "source": [
        "Реализуем модель Наивный Баес"
      ],
      "metadata": {
        "id": "_nVRLuUojyim"
      }
    },
    {
      "cell_type": "code",
      "source": [
        "from sklearn.naive_bayes import GaussianNB\n",
        "clf_nb = GaussianNB()\n",
        "clf_nb.fit(X_train, y_train)\n",
        "y_pred_nb = clf_nb.predict(X_val)\n",
        "print(accuracy_score(y_val, y_pred_nb))\n"
      ],
      "metadata": {
        "colab": {
          "base_uri": "https://localhost:8080/"
        },
        "id": "G0yE3KuUjyim",
        "outputId": "b49a5ae1-8014-4b2a-faa3-6ad5211803e1"
      },
      "execution_count": null,
      "outputs": [
        {
          "output_type": "stream",
          "name": "stdout",
          "text": [
            "0.5507692307692308\n"
          ]
        }
      ]
    },
    {
      "cell_type": "markdown",
      "source": [
        "Реализуем модель SGDC классификатор"
      ],
      "metadata": {
        "id": "hdPjXR4Gjyin"
      }
    },
    {
      "cell_type": "code",
      "source": [
        "from sklearn.linear_model import SGDClassifier\n",
        "clf_sgdc = SGDClassifier()\n",
        "clf_sgdc.fit(X_train, y_train)\n",
        "y_pred_sgdc = clf_sgdc.predict(X_val)\n",
        "print(accuracy_score(y_val, y_pred_sgdc))\n"
      ],
      "metadata": {
        "colab": {
          "base_uri": "https://localhost:8080/"
        },
        "id": "Yb0ak-odjyio",
        "outputId": "de092f29-4fde-4ff7-ff1c-0a79dd580d3b"
      },
      "execution_count": null,
      "outputs": [
        {
          "output_type": "stream",
          "name": "stdout",
          "text": [
            "0.9584615384615385\n"
          ]
        }
      ]
    },
    {
      "cell_type": "markdown",
      "source": [
        "Реализуем модель линейный SVC"
      ],
      "metadata": {
        "id": "vI8SZILYjyio"
      }
    },
    {
      "cell_type": "code",
      "source": [
        "from sklearn.svm import LinearSVC\n",
        "clf_svc = LinearSVC()\n",
        "clf_svc.fit(X_train, y_train)\n",
        "y_pred_svc = clf_svc.predict(X_val)\n",
        "print(accuracy_score(y_val, y_pred_svc))\n"
      ],
      "metadata": {
        "colab": {
          "base_uri": "https://localhost:8080/"
        },
        "id": "bN_3HFh2jyip",
        "outputId": "e001f5af-038c-48d3-f078-9b489c3a774b"
      },
      "execution_count": null,
      "outputs": [
        {
          "output_type": "stream",
          "name": "stdout",
          "text": [
            "0.9592307692307692\n"
          ]
        }
      ]
    }
  ]
}